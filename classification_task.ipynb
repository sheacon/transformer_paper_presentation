{
  "cells": [
    {
      "cell_type": "markdown",
      "id": "a58ee08e-09c1-4c99-8540-5ae15d935475",
      "metadata": {
        "id": "a58ee08e-09c1-4c99-8540-5ae15d935475"
      },
      "source": [
        "# NHTSA Complaints\n",
        "https://www.nhtsa.gov/nhtsa-datasets-and-apis\n",
        "Complaint information entered into NHTSA’s Office of Defects Investigation vehicle owner's complaint database is used with other data sources to identify safety issues that warrant investigation and to determine if a safety-related defect trend exists. Complaint information is also analyzed to monitor existing recalls for proper scope and adequacy.\n",
        "\n",
        "Overview: Based on customer comments, predict primary failure part.\n",
        "\n",
        "Technical: This is a text classification task.\n",
        "\n",
        "Steps:\n",
        "- Produce embedding (vector representation) for customer comment\n",
        "- Use vector elements as features for classification model (logistic, etc.)\n",
        "\n",
        "Embedding approaches:\n",
        "- GloVe\n",
        "- Sentence Transformer\n",
        "\n",
        "Classification approach:\n",
        "- Logistic"
      ]
    },
    {
      "cell_type": "markdown",
      "id": "55b3143c-41ac-48ff-94f2-2d8d5d047b5e",
      "metadata": {
        "tags": [],
        "id": "55b3143c-41ac-48ff-94f2-2d8d5d047b5e"
      },
      "source": [
        "## Environment"
      ]
    },
    {
      "cell_type": "markdown",
      "id": "d2b5cc37-2293-4922-900d-bc7a762f13d0",
      "metadata": {
        "id": "d2b5cc37-2293-4922-900d-bc7a762f13d0"
      },
      "source": [
        "**NOTE**: Use Instance GPU instance or transformer sentence embeddings computations will take forever."
      ]
    },
    {
      "cell_type": "code",
      "execution_count": 1,
      "id": "e6387fb6",
      "metadata": {
        "colab": {
          "base_uri": "https://localhost:8080/"
        },
        "id": "e6387fb6",
        "outputId": "edbc6958-f6f2-4869-fb4b-1399c9bad0b5"
      },
      "outputs": [
        {
          "output_type": "stream",
          "name": "stdout",
          "text": [
            "Mounted at /content/drive\n",
            "/content/drive/.shortcut-targets-by-id/1vfLs8lJDQqBTM3iH8G_76AWSt_g_WCC7/Transformers/transformer_presentation\n"
          ]
        }
      ],
      "source": [
        "# mount google drive\n",
        "from google.colab import drive\n",
        "import os\n",
        "drive.mount('/content/drive')\n",
        "\n",
        "# change dir\n",
        "cur_path = '/content/drive/MyDrive/transformers/transformer_presentation'\n",
        "os.chdir(cur_path)\n",
        "!pwd"
      ]
    },
    {
      "cell_type": "code",
      "execution_count": 2,
      "id": "995f5543-a1da-4339-9fac-b989ae5b29a5",
      "metadata": {
        "tags": [],
        "id": "995f5543-a1da-4339-9fac-b989ae5b29a5",
        "colab": {
          "base_uri": "https://localhost:8080/"
        },
        "outputId": "33f66b56-5fec-462e-aa6c-bbeac8b3c907"
      },
      "outputs": [
        {
          "output_type": "stream",
          "name": "stdout",
          "text": [
            "\u001b[?25l     \u001b[90m━━━━━━━━━━━━━━━━━━━━━━━━━━━━━━━━━━━━━━━━\u001b[0m \u001b[32m0.0/86.0 KB\u001b[0m \u001b[31m?\u001b[0m eta \u001b[36m-:--:--\u001b[0m\r\u001b[2K     \u001b[90m━━━━━━━━━━━━━━━━━━━━━━━━━━━━━━━━━━━━━━━━\u001b[0m \u001b[32m86.0/86.0 KB\u001b[0m \u001b[31m7.8 MB/s\u001b[0m eta \u001b[36m0:00:00\u001b[0m\n",
            "\u001b[?25h  Preparing metadata (setup.py) ... \u001b[?25l\u001b[?25hdone\n",
            "\u001b[2K     \u001b[90m━━━━━━━━━━━━━━━━━━━━━━━━━━━━━━━━━━━━━━━━\u001b[0m \u001b[32m6.8/6.8 MB\u001b[0m \u001b[31m74.7 MB/s\u001b[0m eta \u001b[36m0:00:00\u001b[0m\n",
            "\u001b[2K     \u001b[90m━━━━━━━━━━━━━━━━━━━━━━━━━━━━━━━━━━━━━━━━\u001b[0m \u001b[32m1.3/1.3 MB\u001b[0m \u001b[31m62.0 MB/s\u001b[0m eta \u001b[36m0:00:00\u001b[0m\n",
            "\u001b[2K     \u001b[90m━━━━━━━━━━━━━━━━━━━━━━━━━━━━━━━━━━━━━━\u001b[0m \u001b[32m199.8/199.8 KB\u001b[0m \u001b[31m23.2 MB/s\u001b[0m eta \u001b[36m0:00:00\u001b[0m\n",
            "\u001b[2K     \u001b[90m━━━━━━━━━━━━━━━━━━━━━━━━━━━━━━━━━━━━━━━━\u001b[0m \u001b[32m7.6/7.6 MB\u001b[0m \u001b[31m99.2 MB/s\u001b[0m eta \u001b[36m0:00:00\u001b[0m\n",
            "\u001b[?25h  Building wheel for sentence_transformers (setup.py) ... \u001b[?25l\u001b[?25hdone\n"
          ]
        }
      ],
      "source": [
        "! pip install sentence_transformers tqdm -qqq"
      ]
    },
    {
      "cell_type": "code",
      "execution_count": 3,
      "id": "73763e18-76eb-4634-bfd6-9047a13f36f1",
      "metadata": {
        "tags": [],
        "id": "73763e18-76eb-4634-bfd6-9047a13f36f1"
      },
      "outputs": [],
      "source": [
        "import pandas as pd\n",
        "import pyarrow as pa\n",
        "from sentence_transformers import SentenceTransformer\n",
        "import torch"
      ]
    },
    {
      "cell_type": "markdown",
      "id": "9e7f75cf-1197-486c-96ee-68ea66f79f67",
      "metadata": {
        "tags": [],
        "id": "9e7f75cf-1197-486c-96ee-68ea66f79f67"
      },
      "source": [
        "## Data Prep"
      ]
    },
    {
      "cell_type": "code",
      "source": [
        "! pwd"
      ],
      "metadata": {
        "colab": {
          "base_uri": "https://localhost:8080/"
        },
        "id": "Wz1eEcG6UtdY",
        "outputId": "82af7842-5df3-4995-8d0c-bdc2c5cbbb69"
      },
      "id": "Wz1eEcG6UtdY",
      "execution_count": null,
      "outputs": [
        {
          "output_type": "stream",
          "name": "stdout",
          "text": [
            "/content/drive/.shortcut-targets-by-id/1vfLs8lJDQqBTM3iH8G_76AWSt_g_WCC7/Transformers/transformer_presentation\n"
          ]
        }
      ]
    },
    {
      "cell_type": "code",
      "execution_count": null,
      "id": "c3954aee",
      "metadata": {
        "colab": {
          "base_uri": "https://localhost:8080/"
        },
        "id": "c3954aee",
        "outputId": "4f4dece9-be76-4a5b-ff60-17b94a431ac7"
      },
      "outputs": [
        {
          "output_type": "stream",
          "name": "stdout",
          "text": [
            "--2023-03-20 00:02:22--  https://static.nhtsa.gov/odi/ffdd/cmpl/COMPLAINTS_RECEIVED_2020-2023.zip\n",
            "Resolving static.nhtsa.gov (static.nhtsa.gov)... 104.69.162.16, 2600:1413:1:59c::27ea, 2600:1413:1:592::27ea\n",
            "Connecting to static.nhtsa.gov (static.nhtsa.gov)|104.69.162.16|:443... connected.\n",
            "HTTP request sent, awaiting response... 200 OK\n",
            "Length: unspecified [application/octet-stream]\n",
            "Saving to: ‘COMPLAINTS_RECEIVED_2020-2023.zip’\n",
            "\n",
            "COMPLAINTS_RECEIVED     [                <=> ]  42.43M  13.8MB/s    in 3.7s    \n",
            "\n",
            "2023-03-20 00:02:27 (11.5 MB/s) - ‘COMPLAINTS_RECEIVED_2020-2023.zip’ saved [44494113]\n",
            "\n"
          ]
        }
      ],
      "source": [
        "# download data\n",
        "! wget https://static.nhtsa.gov/odi/ffdd/cmpl/COMPLAINTS_RECEIVED_2020-2023.zip"
      ]
    },
    {
      "cell_type": "code",
      "execution_count": 19,
      "id": "9ec05b8c",
      "metadata": {
        "colab": {
          "base_uri": "https://localhost:8080/"
        },
        "id": "9ec05b8c",
        "outputId": "e72cd514-a8c4-403f-cc35-0cbbc4dfcd23"
      },
      "outputs": [
        {
          "output_type": "stream",
          "name": "stdout",
          "text": [
            "(246876, 49)\n"
          ]
        }
      ],
      "source": [
        "df = pd.read_csv('COMPLAINTS_RECEIVED_2020-2023.zip', sep='\\t', low_memory=False)\n",
        "print(df.shape)"
      ]
    },
    {
      "cell_type": "code",
      "execution_count": 20,
      "id": "a3316a51-e39e-490c-a0ee-faa0ef1e7fb8",
      "metadata": {
        "tags": [],
        "id": "a3316a51-e39e-490c-a0ee-faa0ef1e7fb8"
      },
      "outputs": [],
      "source": [
        "# columns in appendix a: https://static.nhtsa.gov/odi/ffdd/cmpl/Import_Instructions_Excel_5-year.pdf\n",
        "df.columns = ['CMPLID','ODINO','MFR_NAME','MAKETXT','MODELTXT','YEARTXT','CRASH'\n",
        "              ,'FAILDATE','FIRE','INJURED','DEATHS','COMPDESC','CITY','STATE','VIN'\n",
        "              ,'DATEA','LDATE','MILES','OCCURENCES','CDESCR','CMPL_TYPE'\n",
        "              ,'POLICE_RPT_YN','PURCH_DT','ORIG_OWNER_YN','ANTI_BRAKES_YN'\n",
        "              ,'CRUISE_CONT_YN','NUM_CYLS','DRIVE_TRAIN','FUEL_SYS','FUEL_TYPE'\n",
        "              ,'TRANS_TYPE','VEH_SPEED','DOT','TIRE_SIZE','LOC_OF_TIRE','TIRE_FAIL_TYPE'\n",
        "              ,'ORIG_EQUIP_YN','MANUF_DT','SEAT_TYPE','RESTRAINT_TYPE','DEALER_NAME'\n",
        "              ,'DEALER_TEL','DEALER_CITY','DEALER_STATE','DEALER_ZIP','PROD_TYPE'\n",
        "              ,'REPAIRED_YN','MEDICAL_ATTN','VEHICLES_TOWED_YN']"
      ]
    },
    {
      "cell_type": "code",
      "execution_count": 21,
      "id": "ec8c56ae-c915-45b5-bd34-24060502cdf8",
      "metadata": {
        "tags": [],
        "id": "ec8c56ae-c915-45b5-bd34-24060502cdf8"
      },
      "outputs": [],
      "source": [
        "selected_cols = ['CMPLID','MAKETXT','MODELTXT','YEARTXT','FAILDATE','CMPL_TYPE','COMPDESC','CDESCR']\n",
        "df = df[selected_cols]\n",
        "df.columns = ['id','make','model','year','event_date','complaint_type','vehicle_component','complaint']"
      ]
    },
    {
      "cell_type": "code",
      "execution_count": 22,
      "id": "a9b32ced-6aea-4048-b93b-0e2e38e2a257",
      "metadata": {
        "tags": [],
        "id": "a9b32ced-6aea-4048-b93b-0e2e38e2a257"
      },
      "outputs": [],
      "source": [
        "# convert the column of string dates to datetime format\n",
        "df['event_date'] = pd.to_datetime(df['event_date'], format='%Y%m%d')"
      ]
    },
    {
      "cell_type": "markdown",
      "id": "612e30d0-1fac-46d4-8397-dd14e70445f7",
      "metadata": {
        "id": "612e30d0-1fac-46d4-8397-dd14e70445f7"
      },
      "source": [
        "Selecting complaints for components with more than 10,000 complaints"
      ]
    },
    {
      "cell_type": "code",
      "execution_count": 23,
      "id": "21c215de-4240-43be-bd6e-cc120eed67ad",
      "metadata": {
        "tags": [],
        "colab": {
          "base_uri": "https://localhost:8080/"
        },
        "id": "21c215de-4240-43be-bd6e-cc120eed67ad",
        "outputId": "b29f7a10-c2ee-404a-8829-831a8393b845"
      },
      "outputs": [
        {
          "output_type": "execute_result",
          "data": {
            "text/plain": [
              "ENGINE                                                      34361\n",
              "ELECTRICAL SYSTEM                                           29209\n",
              "UNKNOWN OR OTHER                                            24780\n",
              "POWER TRAIN                                                 22347\n",
              "STEERING                                                    17760\n",
              "SERVICE BRAKES                                              14681\n",
              "AIR BAGS                                                    12180\n",
              "FUEL/PROPULSION SYSTEM                                      11321\n",
              "STRUCTURE:BODY                                               8302\n",
              "SUSPENSION                                                   8093\n",
              "VEHICLE SPEED CONTROL                                        6631\n",
              "VISIBILITY/WIPER                                             6538\n",
              "EXTERIOR LIGHTING                                            6134\n",
              "FORWARD COLLISION AVOIDANCE: AUTOMATIC EMERGENCY BRAKING     4210\n",
              "WHEELS                                                       2862\n",
              "SEATS                                                        2661\n",
              "FORWARD COLLISION AVOIDANCE: ADAPTIVE CRUISE CONTROL         2644\n",
              "ELECTRONIC STABILITY CONTROL                                 2586\n",
              "SEAT BELTS                                                   2382\n",
              "FORWARD COLLISION AVOIDANCE: WARNINGS                        1910\n",
              "TIRES                                                        1655\n",
              "SERVICE BRAKES, HYDRAULIC                                    1565\n",
              "ENGINE AND ENGINE COOLING                                    1563\n",
              "FUEL SYSTEM, GASOLINE                                        1429\n",
              "LANE DEPARTURE: BLIND SPOT DETECTION                          734\n",
              "Name: vehicle_component, dtype: int64"
            ]
          },
          "metadata": {},
          "execution_count": 23
        }
      ],
      "source": [
        "pd.set_option(\"display.max_rows\", 25)\n",
        "df['vehicle_component'].value_counts().head(25)"
      ]
    },
    {
      "cell_type": "code",
      "execution_count": 24,
      "id": "16e36c57-22d0-4704-a68d-3ce1cbefdbf1",
      "metadata": {
        "tags": [],
        "id": "16e36c57-22d0-4704-a68d-3ce1cbefdbf1"
      },
      "outputs": [],
      "source": [
        "top_components = list(df['vehicle_component'].value_counts().head(8).index)\n",
        "top_components.remove(\"UNKNOWN OR OTHER\")"
      ]
    },
    {
      "cell_type": "code",
      "execution_count": 25,
      "id": "c5634e34-784a-47db-9ba1-e354aa2e7dfc",
      "metadata": {
        "tags": [],
        "colab": {
          "base_uri": "https://localhost:8080/"
        },
        "id": "c5634e34-784a-47db-9ba1-e354aa2e7dfc",
        "outputId": "9e7cd4ee-12bd-4d24-ca9b-dbd19ad745e1"
      },
      "outputs": [
        {
          "output_type": "execute_result",
          "data": {
            "text/plain": [
              "(141859, 8)"
            ]
          },
          "metadata": {},
          "execution_count": 25
        }
      ],
      "source": [
        "df = df[df['vehicle_component'].isin(top_components)]\n",
        "df.shape"
      ]
    },
    {
      "cell_type": "code",
      "execution_count": 26,
      "id": "870c0a08-e94a-4767-a810-f4a284ada767",
      "metadata": {
        "tags": [],
        "id": "870c0a08-e94a-4767-a810-f4a284ada767"
      },
      "outputs": [],
      "source": [
        "balanced_df = df.groupby('vehicle_component').apply(lambda x: x.sample(n=10000, replace=False)).reset_index(drop=True)"
      ]
    },
    {
      "cell_type": "code",
      "execution_count": 27,
      "id": "463a1d1a-8c08-4c64-b322-ffe3dd7f280a",
      "metadata": {
        "tags": [],
        "colab": {
          "base_uri": "https://localhost:8080/"
        },
        "id": "463a1d1a-8c08-4c64-b322-ffe3dd7f280a",
        "outputId": "1a6f4952-9daa-4ffb-f2f3-795e192dc6f9"
      },
      "outputs": [
        {
          "output_type": "execute_result",
          "data": {
            "text/plain": [
              "AIR BAGS                  10000\n",
              "ELECTRICAL SYSTEM         10000\n",
              "ENGINE                    10000\n",
              "FUEL/PROPULSION SYSTEM    10000\n",
              "POWER TRAIN               10000\n",
              "SERVICE BRAKES            10000\n",
              "STEERING                  10000\n",
              "Name: vehicle_component, dtype: int64"
            ]
          },
          "metadata": {},
          "execution_count": 27
        }
      ],
      "source": [
        "balanced_df['vehicle_component'].value_counts()"
      ]
    },
    {
      "cell_type": "code",
      "execution_count": 28,
      "id": "61e70bb2-bbb8-4c2c-9c2c-af03708eec5f",
      "metadata": {
        "tags": [],
        "id": "61e70bb2-bbb8-4c2c-9c2c-af03708eec5f"
      },
      "outputs": [],
      "source": [
        "df = balanced_df"
      ]
    },
    {
      "cell_type": "code",
      "execution_count": 29,
      "id": "538b86a3-409d-4d14-bd6b-99f6b1c3f979",
      "metadata": {
        "tags": [],
        "colab": {
          "base_uri": "https://localhost:8080/",
          "height": 511
        },
        "id": "538b86a3-409d-4d14-bd6b-99f6b1c3f979",
        "outputId": "2bff4fe8-7458-4fad-e125-b755df034521"
      },
      "outputs": [
        {
          "output_type": "execute_result",
          "data": {
            "text/plain": [
              "                                                                                                                                                                                                                                                                                                                                                                                                                                                                                                                                 12716  \\\n",
              "id                                                                                                                                                                                                                                                                                                                                                                                                                                                                                                                             1666084   \n",
              "make                                                                                                                                                                                                                                                                                                                                                                                                                                                                                                                             HONDA   \n",
              "model                                                                                                                                                                                                                                                                                                                                                                                                                                                                                                                             CR-V   \n",
              "year                                                                                                                                                                                                                                                                                                                                                                                                                                                                                                                            2019.0   \n",
              "event_date                                                                                                                                                                                                                                                                                                                                                                                                                                                                                                         2020-05-30 00:00:00   \n",
              "complaint_type                                                                                                                                                                                                                                                                                                                                                                                                                                                                                                                    IVOQ   \n",
              "vehicle_component                                                                                                                                                                                                                                                                                                                                                                                                                                                                                                    ELECTRICAL SYSTEM   \n",
              "complaint          WHILE DRIVING ON A HIGHWAY THE INFOTAINMENT  CENTER SUDDENLY BEGAN BEEPING AND TURNING ON AND OFF REPEATEDLY.  THE BRIGHTNESS CONTROL BEGAN TO BEEP AND TURN TO A HIGHER SETTING AND THEN A LOWER ONE.  NO ONE WAS TOUCHING THE SCREENS/CONTROLS.  I VIDEOED THIS.  EARLIER IN THE MONTH  WHILE I WAS DRIVING AND THE TIRE PRESSURE MONITOR SAID TIRES WERE LOW BUT WHEN I MEASURED THEM, THEY WERE NOT SO WHILE THE CAR WAS STATIONARY, I CHECKED AND THE MESSAGE WAS STILL THERE..  BEFORE THAT I HAD ERROR ME...   \n",
              "\n",
              "                                                                                                                                                                                                                                                                                                                                                                                                                                                                                                                                 18843  \\\n",
              "id                                                                                                                                                                                                                                                                                                                                                                                                                                                                                                                             1832859   \n",
              "make                                                                                                                                                                                                                                                                                                                                                                                                                                                                                                                             HONDA   \n",
              "model                                                                                                                                                                                                                                                                                                                                                                                                                                                                                                                          ODYSSEY   \n",
              "year                                                                                                                                                                                                                                                                                                                                                                                                                                                                                                                            2019.0   \n",
              "event_date                                                                                                                                                                                                                                                                                                                                                                                                                                                                                                         2022-02-14 00:00:00   \n",
              "complaint_type                                                                                                                                                                                                                                                                                                                                                                                                                                                                                                                    IVOQ   \n",
              "vehicle_component                                                                                                                                                                                                                                                                                                                                                                                                                                                                                                    ELECTRICAL SYSTEM   \n",
              "complaint          The passenger side, rear sliding door does not engage in the locking mechanism. It intermittently lacks securely latching. In looking into the door, it appears that the actuator is not engaging properly.   Upon researching this for a few minutes, I do see that there were recalls on 2018-2019 Honda Odysseys (as well as other models of Hondas). My car is a 2019 Odyssey. I have called Honda about this issue and they do not acknowledge this recall in regards to my VIN.    Service Bulletin 18-128...   \n",
              "\n",
              "                                                                                                                                                                                                                                                                                                                                        67367  \\\n",
              "id                                                                                                                                                                                                                                                                                                                                    1742139   \n",
              "make                                                                                                                                                                                                                                                                                                                                     FORD   \n",
              "model                                                                                                                                                                                                                                                                                                                                  FUSION   \n",
              "year                                                                                                                                                                                                                                                                                                                                   2012.0   \n",
              "event_date                                                                                                                                                                                                                                                                                                                2021-04-20 00:00:00   \n",
              "complaint_type                                                                                                                                                                                                                                                                                                                           IVOQ   \n",
              "vehicle_component                                                                                                                                                                                                                                                                                                                    STEERING   \n",
              "complaint          VEHICLE STEERING HAS BEEN ACTING UP FOR A FEW DAYS LIKE IT IS CATCHING AND PULLING IN THE DIRECTION I JUST SLIGHTLY VEER TO. 2 DAYS LATER, WHILE DRIVING ON MAIN HIGHWAY, 60MPH, SERVICE POWER STEERING AND SERVICE ADVANCETRAC DISPLAY ON DASH. COMPLETE LOSS OF POWER STEERING ALMOST IMPOSSIBLE TO TURN STEERING WHEEL.   \n",
              "\n",
              "                                                                                                                                                                                                                                                                                                                                                                                                                                                                                                                                 20128  \\\n",
              "id                                                                                                                                                                                                                                                                                                                                                                                                                                                                                                                             1817255   \n",
              "make                                                                                                                                                                                                                                                                                                                                                                                                                                                                                                                         CHEVROLET   \n",
              "model                                                                                                                                                                                                                                                                                                                                                                                                                                                                                                                         SUBURBAN   \n",
              "year                                                                                                                                                                                                                                                                                                                                                                                                                                                                                                                            2017.0   \n",
              "event_date                                                                                                                                                                                                                                                                                                                                                                                                                                                                                                         2022-02-08 00:00:00   \n",
              "complaint_type                                                                                                                                                                                                                                                                                                                                                                                                                                                                                                                    IVOQ   \n",
              "vehicle_component                                                                                                                                                                                                                                                                                                                                                                                                                                                                                                               ENGINE   \n",
              "complaint          Lifter and cam shaft failure in 2017 Suburban at 87,000 miles. Vehicle was purchased new and well maintained when engine knocking or clicking started.  What component or system failed or malfunctioned, and is it available for inspection upon request? Camshaft, lifters, pistons How was your safety or the safety of others put at risk? Had failure not been detected I could have been stranded or lost engine power in situation that created a collision and injury.  Has the problem been reproduced ...   \n",
              "\n",
              "                                                                                                                                                                                                                                                                                                                                                                                                                                                                                                                                 64417  \n",
              "id                                                                                                                                                                                                                                                                                                                                                                                                                                                                                                                             1795724  \n",
              "make                                                                                                                                                                                                                                                                                                                                                                                                                                                                                                                              FORD  \n",
              "model                                                                                                                                                                                                                                                                                                                                                                                                                                                                                                                            F-150  \n",
              "year                                                                                                                                                                                                                                                                                                                                                                                                                                                                                                                            2016.0  \n",
              "event_date                                                                                                                                                                                                                                                                                                                                                                                                                                                                                                         2022-02-04 00:00:00  \n",
              "complaint_type                                                                                                                                                                                                                                                                                                                                                                                                                                                                                                                    EVOQ  \n",
              "vehicle_component                                                                                                                                                                                                                                                                                                                                                                                                                                                                                                             STEERING  \n",
              "complaint          The contact owns a 2016 Ford F-150. The contact stated that after stopping and making a right turn, the vehicle lost power steering assist and locked up, while driving 5 MPH. The contact stopped, turned off, and then restarted the vehicle however, the power steering assist did not return. The vehicle was driven to the residence in manual steering mode. The vehicle was taken to the local dealer to be diagnosed. The contact was informed that the power steering unit needed to be replaced. The v...  "
            ],
            "text/html": [
              "\n",
              "  <div id=\"df-0dfbe984-a0f0-4c81-bf36-90c1da5b6daa\">\n",
              "    <div class=\"colab-df-container\">\n",
              "      <div>\n",
              "<style scoped>\n",
              "    .dataframe tbody tr th:only-of-type {\n",
              "        vertical-align: middle;\n",
              "    }\n",
              "\n",
              "    .dataframe tbody tr th {\n",
              "        vertical-align: top;\n",
              "    }\n",
              "\n",
              "    .dataframe thead th {\n",
              "        text-align: right;\n",
              "    }\n",
              "</style>\n",
              "<table border=\"1\" class=\"dataframe\">\n",
              "  <thead>\n",
              "    <tr style=\"text-align: right;\">\n",
              "      <th></th>\n",
              "      <th>12716</th>\n",
              "      <th>18843</th>\n",
              "      <th>67367</th>\n",
              "      <th>20128</th>\n",
              "      <th>64417</th>\n",
              "    </tr>\n",
              "  </thead>\n",
              "  <tbody>\n",
              "    <tr>\n",
              "      <th>id</th>\n",
              "      <td>1666084</td>\n",
              "      <td>1832859</td>\n",
              "      <td>1742139</td>\n",
              "      <td>1817255</td>\n",
              "      <td>1795724</td>\n",
              "    </tr>\n",
              "    <tr>\n",
              "      <th>make</th>\n",
              "      <td>HONDA</td>\n",
              "      <td>HONDA</td>\n",
              "      <td>FORD</td>\n",
              "      <td>CHEVROLET</td>\n",
              "      <td>FORD</td>\n",
              "    </tr>\n",
              "    <tr>\n",
              "      <th>model</th>\n",
              "      <td>CR-V</td>\n",
              "      <td>ODYSSEY</td>\n",
              "      <td>FUSION</td>\n",
              "      <td>SUBURBAN</td>\n",
              "      <td>F-150</td>\n",
              "    </tr>\n",
              "    <tr>\n",
              "      <th>year</th>\n",
              "      <td>2019.0</td>\n",
              "      <td>2019.0</td>\n",
              "      <td>2012.0</td>\n",
              "      <td>2017.0</td>\n",
              "      <td>2016.0</td>\n",
              "    </tr>\n",
              "    <tr>\n",
              "      <th>event_date</th>\n",
              "      <td>2020-05-30 00:00:00</td>\n",
              "      <td>2022-02-14 00:00:00</td>\n",
              "      <td>2021-04-20 00:00:00</td>\n",
              "      <td>2022-02-08 00:00:00</td>\n",
              "      <td>2022-02-04 00:00:00</td>\n",
              "    </tr>\n",
              "    <tr>\n",
              "      <th>complaint_type</th>\n",
              "      <td>IVOQ</td>\n",
              "      <td>IVOQ</td>\n",
              "      <td>IVOQ</td>\n",
              "      <td>IVOQ</td>\n",
              "      <td>EVOQ</td>\n",
              "    </tr>\n",
              "    <tr>\n",
              "      <th>vehicle_component</th>\n",
              "      <td>ELECTRICAL SYSTEM</td>\n",
              "      <td>ELECTRICAL SYSTEM</td>\n",
              "      <td>STEERING</td>\n",
              "      <td>ENGINE</td>\n",
              "      <td>STEERING</td>\n",
              "    </tr>\n",
              "    <tr>\n",
              "      <th>complaint</th>\n",
              "      <td>WHILE DRIVING ON A HIGHWAY THE INFOTAINMENT  CENTER SUDDENLY BEGAN BEEPING AND TURNING ON AND OFF REPEATEDLY.  THE BRIGHTNESS CONTROL BEGAN TO BEEP AND TURN TO A HIGHER SETTING AND THEN A LOWER ONE.  NO ONE WAS TOUCHING THE SCREENS/CONTROLS.  I VIDEOED THIS.  EARLIER IN THE MONTH  WHILE I WAS DRIVING AND THE TIRE PRESSURE MONITOR SAID TIRES WERE LOW BUT WHEN I MEASURED THEM, THEY WERE NOT SO WHILE THE CAR WAS STATIONARY, I CHECKED AND THE MESSAGE WAS STILL THERE..  BEFORE THAT I HAD ERROR ME...</td>\n",
              "      <td>The passenger side, rear sliding door does not engage in the locking mechanism. It intermittently lacks securely latching. In looking into the door, it appears that the actuator is not engaging properly.   Upon researching this for a few minutes, I do see that there were recalls on 2018-2019 Honda Odysseys (as well as other models of Hondas). My car is a 2019 Odyssey. I have called Honda about this issue and they do not acknowledge this recall in regards to my VIN.    Service Bulletin 18-128...</td>\n",
              "      <td>VEHICLE STEERING HAS BEEN ACTING UP FOR A FEW DAYS LIKE IT IS CATCHING AND PULLING IN THE DIRECTION I JUST SLIGHTLY VEER TO. 2 DAYS LATER, WHILE DRIVING ON MAIN HIGHWAY, 60MPH, SERVICE POWER STEERING AND SERVICE ADVANCETRAC DISPLAY ON DASH. COMPLETE LOSS OF POWER STEERING ALMOST IMPOSSIBLE TO TURN STEERING WHEEL.</td>\n",
              "      <td>Lifter and cam shaft failure in 2017 Suburban at 87,000 miles. Vehicle was purchased new and well maintained when engine knocking or clicking started.  What component or system failed or malfunctioned, and is it available for inspection upon request? Camshaft, lifters, pistons How was your safety or the safety of others put at risk? Had failure not been detected I could have been stranded or lost engine power in situation that created a collision and injury.  Has the problem been reproduced ...</td>\n",
              "      <td>The contact owns a 2016 Ford F-150. The contact stated that after stopping and making a right turn, the vehicle lost power steering assist and locked up, while driving 5 MPH. The contact stopped, turned off, and then restarted the vehicle however, the power steering assist did not return. The vehicle was driven to the residence in manual steering mode. The vehicle was taken to the local dealer to be diagnosed. The contact was informed that the power steering unit needed to be replaced. The v...</td>\n",
              "    </tr>\n",
              "  </tbody>\n",
              "</table>\n",
              "</div>\n",
              "      <button class=\"colab-df-convert\" onclick=\"convertToInteractive('df-0dfbe984-a0f0-4c81-bf36-90c1da5b6daa')\"\n",
              "              title=\"Convert this dataframe to an interactive table.\"\n",
              "              style=\"display:none;\">\n",
              "        \n",
              "  <svg xmlns=\"http://www.w3.org/2000/svg\" height=\"24px\"viewBox=\"0 0 24 24\"\n",
              "       width=\"24px\">\n",
              "    <path d=\"M0 0h24v24H0V0z\" fill=\"none\"/>\n",
              "    <path d=\"M18.56 5.44l.94 2.06.94-2.06 2.06-.94-2.06-.94-.94-2.06-.94 2.06-2.06.94zm-11 1L8.5 8.5l.94-2.06 2.06-.94-2.06-.94L8.5 2.5l-.94 2.06-2.06.94zm10 10l.94 2.06.94-2.06 2.06-.94-2.06-.94-.94-2.06-.94 2.06-2.06.94z\"/><path d=\"M17.41 7.96l-1.37-1.37c-.4-.4-.92-.59-1.43-.59-.52 0-1.04.2-1.43.59L10.3 9.45l-7.72 7.72c-.78.78-.78 2.05 0 2.83L4 21.41c.39.39.9.59 1.41.59.51 0 1.02-.2 1.41-.59l7.78-7.78 2.81-2.81c.8-.78.8-2.07 0-2.86zM5.41 20L4 18.59l7.72-7.72 1.47 1.35L5.41 20z\"/>\n",
              "  </svg>\n",
              "      </button>\n",
              "      \n",
              "  <style>\n",
              "    .colab-df-container {\n",
              "      display:flex;\n",
              "      flex-wrap:wrap;\n",
              "      gap: 12px;\n",
              "    }\n",
              "\n",
              "    .colab-df-convert {\n",
              "      background-color: #E8F0FE;\n",
              "      border: none;\n",
              "      border-radius: 50%;\n",
              "      cursor: pointer;\n",
              "      display: none;\n",
              "      fill: #1967D2;\n",
              "      height: 32px;\n",
              "      padding: 0 0 0 0;\n",
              "      width: 32px;\n",
              "    }\n",
              "\n",
              "    .colab-df-convert:hover {\n",
              "      background-color: #E2EBFA;\n",
              "      box-shadow: 0px 1px 2px rgba(60, 64, 67, 0.3), 0px 1px 3px 1px rgba(60, 64, 67, 0.15);\n",
              "      fill: #174EA6;\n",
              "    }\n",
              "\n",
              "    [theme=dark] .colab-df-convert {\n",
              "      background-color: #3B4455;\n",
              "      fill: #D2E3FC;\n",
              "    }\n",
              "\n",
              "    [theme=dark] .colab-df-convert:hover {\n",
              "      background-color: #434B5C;\n",
              "      box-shadow: 0px 1px 3px 1px rgba(0, 0, 0, 0.15);\n",
              "      filter: drop-shadow(0px 1px 2px rgba(0, 0, 0, 0.3));\n",
              "      fill: #FFFFFF;\n",
              "    }\n",
              "  </style>\n",
              "\n",
              "      <script>\n",
              "        const buttonEl =\n",
              "          document.querySelector('#df-0dfbe984-a0f0-4c81-bf36-90c1da5b6daa button.colab-df-convert');\n",
              "        buttonEl.style.display =\n",
              "          google.colab.kernel.accessAllowed ? 'block' : 'none';\n",
              "\n",
              "        async function convertToInteractive(key) {\n",
              "          const element = document.querySelector('#df-0dfbe984-a0f0-4c81-bf36-90c1da5b6daa');\n",
              "          const dataTable =\n",
              "            await google.colab.kernel.invokeFunction('convertToInteractive',\n",
              "                                                     [key], {});\n",
              "          if (!dataTable) return;\n",
              "\n",
              "          const docLinkHtml = 'Like what you see? Visit the ' +\n",
              "            '<a target=\"_blank\" href=https://colab.research.google.com/notebooks/data_table.ipynb>data table notebook</a>'\n",
              "            + ' to learn more about interactive tables.';\n",
              "          element.innerHTML = '';\n",
              "          dataTable['output_type'] = 'display_data';\n",
              "          await google.colab.output.renderOutput(dataTable, element);\n",
              "          const docLink = document.createElement('div');\n",
              "          docLink.innerHTML = docLinkHtml;\n",
              "          element.appendChild(docLink);\n",
              "        }\n",
              "      </script>\n",
              "    </div>\n",
              "  </div>\n",
              "  "
            ]
          },
          "metadata": {},
          "execution_count": 29
        }
      ],
      "source": [
        "# quick look sample of complaints\n",
        "pd.set_option('max_colwidth', 500)\n",
        "df.sample(5).T"
      ]
    },
    {
      "cell_type": "markdown",
      "id": "d2cf1b1d-8c16-4ddf-9a7d-a1ae4e98bc84",
      "metadata": {
        "id": "d2cf1b1d-8c16-4ddf-9a7d-a1ae4e98bc84"
      },
      "source": [
        "### Normalization\n",
        "\n",
        "Note: this can be done more efficiently, but just getting something working here."
      ]
    },
    {
      "cell_type": "code",
      "execution_count": 30,
      "id": "5de43f26-25d8-4bfe-86f7-353930fc08ef",
      "metadata": {
        "tags": [],
        "id": "5de43f26-25d8-4bfe-86f7-353930fc08ef"
      },
      "outputs": [],
      "source": [
        "import nltk\n",
        "import re\n",
        "from nltk.corpus import stopwords\n",
        "from nltk.stem import WordNetLemmatizer\n",
        "from nltk.tokenize import word_tokenize"
      ]
    },
    {
      "cell_type": "code",
      "execution_count": 31,
      "id": "6f9977a2",
      "metadata": {
        "colab": {
          "base_uri": "https://localhost:8080/"
        },
        "id": "6f9977a2",
        "outputId": "509f8cd1-4f9e-4e8a-d840-fc25193c8713"
      },
      "outputs": [
        {
          "output_type": "stream",
          "name": "stderr",
          "text": [
            "[nltk_data] Downloading package stopwords to /root/nltk_data...\n",
            "[nltk_data]   Package stopwords is already up-to-date!\n",
            "[nltk_data] Downloading package punkt to /root/nltk_data...\n",
            "[nltk_data]   Package punkt is already up-to-date!\n",
            "[nltk_data] Downloading package wordnet to /root/nltk_data...\n",
            "[nltk_data]   Package wordnet is already up-to-date!\n",
            "[nltk_data] Downloading package averaged_perceptron_tagger to\n",
            "[nltk_data]     /root/nltk_data...\n",
            "[nltk_data]   Package averaged_perceptron_tagger is already up-to-\n",
            "[nltk_data]       date!\n"
          ]
        },
        {
          "output_type": "execute_result",
          "data": {
            "text/plain": [
              "True"
            ]
          },
          "metadata": {},
          "execution_count": 31
        }
      ],
      "source": [
        "nltk.download('stopwords')\n",
        "nltk.download('punkt')\n",
        "nltk.download('wordnet')\n",
        "nltk.download('averaged_perceptron_tagger')\n"
      ]
    },
    {
      "cell_type": "code",
      "execution_count": 32,
      "id": "8f9b0354",
      "metadata": {
        "id": "8f9b0354"
      },
      "outputs": [],
      "source": [
        "from nltk.corpus import wordnet\n",
        "\n",
        "def get_wordnet_pos(treebank_tag):\n",
        "    if treebank_tag.startswith('J'):\n",
        "        return wordnet.ADJ\n",
        "    elif treebank_tag.startswith('V'):\n",
        "        return wordnet.VERB\n",
        "    elif treebank_tag.startswith('N'):\n",
        "        return wordnet.NOUN\n",
        "    elif treebank_tag.startswith('R'):\n",
        "        return wordnet.ADV\n",
        "    else:\n",
        "        return wordnet.NOUN\n"
      ]
    },
    {
      "cell_type": "code",
      "execution_count": 33,
      "id": "91a68946",
      "metadata": {
        "id": "91a68946"
      },
      "outputs": [],
      "source": [
        "def preprocess_text(text):\n",
        "    # lowercase\n",
        "    text = text.lower()\n",
        "\n",
        "    # remove special characters and punctuation\n",
        "    text = re.sub(r'[^a-zA-Z\\s]', ' ', text)\n",
        "\n",
        "    # tokenize\n",
        "    tokens = word_tokenize(text)\n",
        "\n",
        "    # remove stopwords\n",
        "    stop_words = set(stopwords.words('english'))\n",
        "    tokens = [word for word in tokens if word not in stop_words]\n",
        "\n",
        "    # lemmatize\n",
        "    lemmatizer = WordNetLemmatizer()\n",
        "    tagged = nltk.pos_tag(tokens)\n",
        "    tokens = [lemmatizer.lemmatize(word, get_wordnet_pos(tag)) for word, tag in tagged]\n",
        "\n",
        "    # rejoin string\n",
        "    preprocessed_text = ' '.join(tokens)\n",
        "\n",
        "    return preprocessed_text\n"
      ]
    },
    {
      "cell_type": "code",
      "source": [
        "from tqdm import tqdm\n",
        "from tqdm.auto import tqdm\n",
        "tqdm.pandas()\n",
        "\n",
        "# preprocess text\n",
        "df['complaint'] = df['complaint'].progress_apply(preprocess_text)"
      ],
      "metadata": {
        "colab": {
          "base_uri": "https://localhost:8080/",
          "height": 49,
          "referenced_widgets": [
            "4a81d4d9533b42a8932cc504b74ca780",
            "84fed4e53093401bbdc630dff7a7f837",
            "0c8bff80d28c4ef5bfbc1377c0ff3d5f",
            "3a93f37e75d44a1db6adc8b3b166bb25",
            "0d892c1814e647ebae04e3ae7cc3df67",
            "02724f1a6d014533a89c06513d6a6eb0",
            "cd889fcdb20e4ee8af6337a5285dccd2",
            "0a6a21e628f5470e97c0daf961ea936e",
            "aa2033b7e4de4a3d9c6fd10426f029bc",
            "3012937e257a47009ab3165ed2ddaadc",
            "6dfe1a5ba85c4a6faa9e6f8c2b6b0b5f"
          ]
        },
        "id": "o2manWeRVwJG",
        "outputId": "cd1af602-9e85-4fbe-bf78-1287ecdeb9d3"
      },
      "id": "o2manWeRVwJG",
      "execution_count": 34,
      "outputs": [
        {
          "output_type": "display_data",
          "data": {
            "text/plain": [
              "  0%|          | 0/70000 [00:00<?, ?it/s]"
            ],
            "application/vnd.jupyter.widget-view+json": {
              "version_major": 2,
              "version_minor": 0,
              "model_id": "4a81d4d9533b42a8932cc504b74ca780"
            }
          },
          "metadata": {}
        }
      ]
    },
    {
      "cell_type": "code",
      "execution_count": 35,
      "id": "2ac11185-d8c2-46b3-9d8b-2431b5d140ac",
      "metadata": {
        "tags": [],
        "colab": {
          "base_uri": "https://localhost:8080/"
        },
        "id": "2ac11185-d8c2-46b3-9d8b-2431b5d140ac",
        "outputId": "c5e2ab29-149c-4d90-ac61-4eb0b640a00f"
      },
      "outputs": [
        {
          "output_type": "execute_result",
          "data": {
            "text/plain": [
              "count    70000.000000\n",
              "mean       342.898629\n",
              "std        255.326318\n",
              "min          0.000000\n",
              "25%        154.000000\n",
              "50%        286.000000\n",
              "75%        455.000000\n",
              "max       1552.000000\n",
              "Name: complaint_length, dtype: float64"
            ]
          },
          "metadata": {},
          "execution_count": 35
        }
      ],
      "source": [
        "df['complaint_length'] = df['complaint'].str.len()\n",
        "df['complaint_length'].describe()"
      ]
    },
    {
      "cell_type": "code",
      "execution_count": 36,
      "id": "eca79138",
      "metadata": {
        "id": "eca79138"
      },
      "outputs": [],
      "source": [
        "cutoff_length = 100\n",
        "df = df[df['complaint_length'] > cutoff_length].reset_index(drop=True)"
      ]
    },
    {
      "cell_type": "markdown",
      "id": "07fbff04-72cd-478c-b37d-8399e02a2d17",
      "metadata": {
        "tags": [],
        "id": "07fbff04-72cd-478c-b37d-8399e02a2d17"
      },
      "source": [
        "## Compute Comment Embeddings\n",
        "\n",
        "Starts with static word embeddings and uses a deep neural network to learn contextual meanings of the words. Pools word embeddings for full sentence/comment embedding."
      ]
    },
    {
      "cell_type": "markdown",
      "id": "222fce78",
      "metadata": {
        "id": "222fce78"
      },
      "source": [
        "### Transformer\n",
        "Pretrained Sentence Transformer Models: https://www.sbert.net/docs/pretrained_models.html\n",
        "\n",
        "all-MiniLM-L6-v2: https://huggingface.co/sentence-transformers/all-MiniLM-L6-v2\n",
        "\n",
        "Nils Reimers, Iryna Gurevych. 2019. [Sentence-BERT: Sentence Embeddings using Siamese BERT-Networks](https://arxiv.org/abs/1908.10084)"
      ]
    },
    {
      "cell_type": "code",
      "execution_count": 37,
      "id": "3a5e3f7e",
      "metadata": {
        "id": "3a5e3f7e"
      },
      "outputs": [],
      "source": [
        "# initial download model to local\n",
        "model_name = 'all-MiniLM-L6-v2'\n",
        "#model_path = 'sentence-transformers/'\n",
        "#model = SentenceTransformer(model_path + model_name)\n",
        "#model.save('./' + model_name)"
      ]
    },
    {
      "cell_type": "code",
      "execution_count": 38,
      "id": "72eb1308-fef1-4825-ba56-f38d5ebe7a9d",
      "metadata": {
        "tags": [],
        "id": "72eb1308-fef1-4825-ba56-f38d5ebe7a9d"
      },
      "outputs": [],
      "source": [
        "transformer_model = SentenceTransformer('./' + model_name)\n",
        "transformer_model = transformer_model.to(torch.device('cuda')) # use GPU"
      ]
    },
    {
      "cell_type": "code",
      "execution_count": 39,
      "id": "2cd600e5-4a3d-446a-be39-0d50718c60bc",
      "metadata": {
        "tags": [],
        "colab": {
          "base_uri": "https://localhost:8080/"
        },
        "id": "2cd600e5-4a3d-446a-be39-0d50718c60bc",
        "outputId": "3652d73d-1dc7-4858-deaf-35b637974d11"
      },
      "outputs": [
        {
          "output_type": "stream",
          "name": "stdout",
          "text": [
            "60219\n"
          ]
        }
      ],
      "source": [
        "complaints = df['complaint']\n",
        "print(len(complaints))"
      ]
    },
    {
      "cell_type": "code",
      "execution_count": 40,
      "id": "5a694224-9244-42eb-a951-cc6abf8a504e",
      "metadata": {
        "tags": [],
        "colab": {
          "base_uri": "https://localhost:8080/"
        },
        "id": "5a694224-9244-42eb-a951-cc6abf8a504e",
        "outputId": "c5e08319-d00d-4116-befc-8f3a103cac27"
      },
      "outputs": [
        {
          "output_type": "stream",
          "name": "stdout",
          "text": [
            "CPU times: user 1min 2s, sys: 796 ms, total: 1min 3s\n",
            "Wall time: 58.5 s\n"
          ]
        }
      ],
      "source": [
        "%%time\n",
        "\n",
        "# compute vector representations of the comments\n",
        "transformer_embeddings = transformer_model.encode(complaints)"
      ]
    },
    {
      "cell_type": "code",
      "execution_count": 41,
      "id": "6d50f177-ad92-4d75-ad36-c1e49467d1f2",
      "metadata": {
        "tags": [],
        "colab": {
          "base_uri": "https://localhost:8080/"
        },
        "id": "6d50f177-ad92-4d75-ad36-c1e49467d1f2",
        "outputId": "90923f06-5f03-4765-e03a-efcf4cd30377"
      },
      "outputs": [
        {
          "output_type": "execute_result",
          "data": {
            "text/plain": [
              "(60219, 384)"
            ]
          },
          "metadata": {},
          "execution_count": 41
        }
      ],
      "source": [
        "transformer_embeddings.shape"
      ]
    },
    {
      "cell_type": "code",
      "execution_count": 42,
      "id": "df3a1570-4c1a-4a07-ba82-b482eee44b18",
      "metadata": {
        "tags": [],
        "id": "df3a1570-4c1a-4a07-ba82-b482eee44b18"
      },
      "outputs": [],
      "source": [
        "df['transformer_embedding'] = list(transformer_embeddings)"
      ]
    },
    {
      "cell_type": "markdown",
      "id": "d8616120",
      "metadata": {
        "id": "d8616120"
      },
      "source": [
        "### GloVe\n",
        "https://nlp.stanford.edu/projects/glove/\n",
        "\n",
        "Jeffrey Pennington, Richard Socher, and Christopher D. Manning. 2014. [GloVe: Global Vectors for Word Representation](https://nlp.stanford.edu/pubs/glove.pdf)."
      ]
    },
    {
      "cell_type": "code",
      "execution_count": 43,
      "id": "5ba32f25",
      "metadata": {
        "id": "5ba32f25"
      },
      "outputs": [],
      "source": [
        "# download model\n",
        "model_name = 'average_word_embeddings_glove.840B.300d'\n",
        "#model_path = 'sentence-transformers/'\n",
        "#model = SentenceTransformer(model_path + model_name)\n",
        "#model.save('./' + model_name)"
      ]
    },
    {
      "cell_type": "code",
      "execution_count": 44,
      "id": "a8eb9959",
      "metadata": {
        "id": "a8eb9959"
      },
      "outputs": [],
      "source": [
        "glove_model = SentenceTransformer('./' + model_name)"
      ]
    },
    {
      "cell_type": "code",
      "execution_count": 45,
      "id": "aea8deda",
      "metadata": {
        "colab": {
          "base_uri": "https://localhost:8080/"
        },
        "id": "aea8deda",
        "outputId": "9dde9151-0303-4631-89af-d4eb30715491"
      },
      "outputs": [
        {
          "output_type": "stream",
          "name": "stdout",
          "text": [
            "CPU times: user 6.49 s, sys: 222 ms, total: 6.71 s\n",
            "Wall time: 6.87 s\n"
          ]
        }
      ],
      "source": [
        "%%time\n",
        "\n",
        "# compute vector representations of the comments\n",
        "glove_comment_embeddings = glove_model.encode(complaints)"
      ]
    },
    {
      "cell_type": "code",
      "execution_count": 46,
      "id": "d7508c49",
      "metadata": {
        "id": "d7508c49"
      },
      "outputs": [],
      "source": [
        "df['glove_embedding'] = list(glove_comment_embeddings)"
      ]
    },
    {
      "cell_type": "markdown",
      "id": "3dbafe4b",
      "metadata": {
        "id": "3dbafe4b"
      },
      "source": [
        "### Results"
      ]
    },
    {
      "cell_type": "code",
      "execution_count": 47,
      "id": "22ce09a0-d91d-4707-93b9-c8d5e09bfbec",
      "metadata": {
        "tags": [],
        "colab": {
          "base_uri": "https://localhost:8080/",
          "height": 758
        },
        "id": "22ce09a0-d91d-4707-93b9-c8d5e09bfbec",
        "outputId": "5fd915ed-ad67-4ab4-a8ef-31d1e7606622"
      },
      "outputs": [
        {
          "output_type": "execute_result",
          "data": {
            "text/plain": [
              "            id  vehicle_component  \\\n",
              "12418  1749693  ELECTRICAL SYSTEM   \n",
              "50833  1664128     SERVICE BRAKES   \n",
              "6744   1637923           AIR BAGS   \n",
              "34095  1654939        POWER TRAIN   \n",
              "12164  1730610  ELECTRICAL SYSTEM   \n",
              "\n",
              "                                                                                                                                                                                                                                                                                                                                                                                                                                                                                                                 complaint  \\\n",
              "12418                                           think unfair manufacture problem unnoticed left people pay already pay enough car also worry manufacture problem leave unattended company certainly dangerous might car battery die way get immediate help right car acknowledge park mode one day car start use wrong shift unknowingly end car accident wont able anything leave unnoticed recall make even danger present driver car information find https mazda oemdtc com ignition turn press startstop button mazda   \n",
              "50833                                                                                                                                                                                                                                                                              happen three time three year suddenly error message pop say electrical park brake problem first two time go away fiddled electrical parking error message go away third time start car brake pad move car stationary happen park lot tr   \n",
              "6744                                                                                                                                                                                                                                                                                                                                        one day air bag failiure light come om along fuel cutoff unavailble light light temporarily fix manually lock unlock door recently fix worked error happen cruise control turn   \n",
              "34095                                                                                  drive ford escape turbo interstate start feel like transmission slip day later check engine light come code p b dealer code p reilly auto part reilly say generic code cam shaft sensor ford say code p b coolant bypass valve c need replace cost noticed ton complaint escape even recall problem ford escape turbo obviously need recall well also ford dealer mike murphy ford morton il say transmission fine though feel like   \n",
              "12164  tl contact own ram contact state vehicle park contact notice oil leak underneath vehicle vehicle take independent mechanic diagnose crack engine filter housing coolant unit vehicle repair contact receive notification nhtsa campaign number v electrical system vehicle speed control v latch lock linkages however part recall repair unavailable dealer central chrysler jeep boston providence turnpike norwood contact confirm part yet available contact state manufacturer exceed reasonable amount tim...   \n",
              "\n",
              "                                                                                                                                                                                                                                                                                                                                                                                                                                                                                                     transformer_embedding  \\\n",
              "12418  [-0.030233692, 0.032133438, 0.022760015, 0.021018686, 0.05256883, 0.13174456, 0.089021936, 0.055530675, -0.07448465, 0.037720595, 0.12936272, 0.018751448, -0.005752621, 0.0077214474, -0.014856036, -0.04564667, 0.0426663, -0.011937177, -0.0778882, 0.018217236, -0.060160227, -0.018547496, -0.045764185, 0.07866061, -0.081829645, -0.0068552443, 0.0015151186, 0.034842126, 0.07637082, -0.0868866, -0.0038601076, 0.07929665, 0.040965002, -0.07605302, 0.0041219736, -0.067651115, -0.04374159, -0.01342...   \n",
              "50833  [-0.015238783, -0.051335715, 0.07837318, -0.033296652, 0.01381467, 0.0027175515, 0.051877927, 0.034465775, 0.09381481, 0.03440375, 0.107392564, -0.04904155, -0.0009952801, 0.027641423, -0.038501553, 0.006690969, -0.018557493, -0.019476881, -0.060030974, 0.043450166, 0.045401365, -0.014163181, -0.08441091, 0.08502019, -0.09116967, 0.055372763, -0.06364056, 0.026626162, 0.01674105, 0.023404744, -0.032732133, 0.033560693, 0.011472247, -0.013425471, 0.035449237, 0.056625273, -0.082529604, -0.036...   \n",
              "6744   [-0.033651054, 0.043016322, -0.017984105, 0.12798707, 0.03197828, -0.014826645, 0.058550425, -0.027831689, -0.012732637, 0.04005575, 0.15731415, 0.016853487, -0.036108844, 0.026284905, -0.0190675, 0.059456788, -0.04531917, -0.09567009, -0.057926938, 0.015499791, 0.03423588, -0.025321709, -0.00068101, 0.01597516, -0.082938485, -0.02117651, -0.023821779, 0.018956577, -0.01648202, -0.02052895, 0.032284204, 0.062101085, -0.029241113, 0.005826448, 0.099739715, 0.01028861, -0.022457954, -0.0194876...   \n",
              "34095  [-0.06923738, -0.08915639, 0.06522927, 0.071054265, 0.022880306, 0.06815305, 0.060104504, 0.001432855, -0.01150523, -0.0442396, 0.06568161, -0.04851977, -0.01130552, -0.051788237, 0.017203078, -0.018692557, 0.07753968, -0.044262946, -0.027133225, -0.023756236, -0.09774977, 0.0155427335, -0.06688957, 0.08468998, -0.06959488, 0.059664965, -0.050436925, 0.0834055, 0.013586959, -0.09034566, -0.07832587, 0.03893884, -0.061033264, 0.018631365, 0.065544486, -0.06120817, -0.057029065, 0.019242944, 0...   \n",
              "12164  [-0.13712965, -0.037152294, 0.1050495, 0.0064556003, 0.0145426355, 0.032075662, 0.0034053654, 0.013819418, 0.00999706, -0.07504839, 0.024878073, -0.08774059, -0.039908983, -0.08653034, -0.021644251, -0.015854424, 0.054424774, 0.0070585436, -0.034778275, -0.13067068, 0.023058238, 0.061378364, -0.01867224, 0.07331347, -0.14929198, 0.04418584, 0.043427736, 0.024671527, -0.024701195, -0.035148557, -0.034046054, 0.024392517, -0.047043495, 0.0032199903, 0.05119901, -0.021034362, -0.068591714, 0.00...   \n",
              "\n",
              "                                                                                                                                                                                                                                                                                                                                                                                                                                                                                                           glove_embedding  \n",
              "12418  [0.00060105877, 0.22678807, -0.13958123, 0.015119894, 0.024455028, -0.08711454, -0.07454371, -0.14263138, -0.04353049, 1.9338084, -0.13678229, 0.041464515, -0.05595109, -0.0056651365, -0.3084877, -0.12516601, -0.21803729, 1.1765188, -0.038645644, 0.05742539, 0.019516852, -0.08444442, 0.09006737, -0.07368893, 0.04290676, -0.07467095, -0.046565898, -0.16555168, 0.09879612, -0.15640289, 0.036210693, -0.11712872, -0.107714295, 0.17498374, 0.064284556, 0.021991171, 0.05353815, 0.07843531, 0.00479...  \n",
              "50833  [0.25179362, 0.25886455, -0.06877896, -0.16750361, 0.032142807, -0.028235191, -0.08752924, -0.23182622, -0.11843743, 1.8754237, -4.5582172e-05, 0.08300912, -0.014669971, 0.0051850597, -0.35737783, -0.14584093, -0.009774891, 1.3699056, -0.08814926, 0.11366577, 0.09847581, -0.05505011, 0.069685616, -0.12687835, 0.12357699, -0.03263268, -0.03939826, -0.14043011, 0.0953412, -0.062985994, -0.07978461, -0.022129044, -0.057104617, 0.016791968, 0.11957993, 0.12575503, 0.07800268, 0.101803035, 0.0370...  \n",
              "6744   [0.078259125, 0.14325035, 0.08262812, -0.014705657, -0.08233604, -0.0027936536, -0.10907388, -0.10794346, -0.05134443, 1.3804443, 0.03177326, 0.077025846, -0.046471033, -0.049769457, -0.176685, -0.17192644, -0.025476553, 1.3686185, -0.062250655, 0.010685643, 0.10074313, -0.035462413, -0.0048686126, -0.069500536, -0.08423969, -0.05831504, -0.11176141, -0.21926877, 0.10325934, -0.05728754, -0.10215102, -0.040776614, -0.051137574, 0.025116425, -0.0038626115, -0.031530745, 0.0008640335, -0.01012...  \n",
              "34095  [0.027058586, 0.28849366, -0.09220874, -0.078520805, 0.13816594, 0.016369203, 0.021603566, -0.18672574, 0.015348776, 1.2862654, -0.08398353, -0.011511967, 0.06992565, -0.20077991, -0.29659903, -0.13963878, -0.17402352, 1.431752, -0.12479244, -0.020641379, 0.09096382, -0.1506973, 0.07126474, -0.14716166, -0.039823968, -0.024986615, -0.14328073, -0.19125618, 0.18559957, 0.06650853, -0.036680404, -0.005337121, -0.014197332, 0.014320342, 0.017113538, -0.045151167, -0.008949817, 0.086723484, -0.1...  \n",
              "12164  [0.14200008, 0.22929566, -0.03855455, 0.014933971, 0.1069296, -0.10290361, -0.13335665, -0.23999237, -0.04076034, 1.528655, -0.117373385, -0.003327625, -0.052089456, -0.1881613, -0.27471337, -0.11826014, -0.10564815, 1.4854552, -0.145039, 0.0039143637, 0.13205452, -0.16630968, 0.020787312, -0.13542758, 0.1051707, -0.003425244, -0.10748004, -0.14007246, 0.13954604, -0.015087329, 0.009022529, -0.05506965, -0.0333714, 0.16917354, -0.046575915, 0.01118408, -0.058261096, 0.059432324, -0.003268461...  "
            ],
            "text/html": [
              "\n",
              "  <div id=\"df-f8a5cae6-31f8-42bb-b347-6e0a22949fe1\">\n",
              "    <div class=\"colab-df-container\">\n",
              "      <div>\n",
              "<style scoped>\n",
              "    .dataframe tbody tr th:only-of-type {\n",
              "        vertical-align: middle;\n",
              "    }\n",
              "\n",
              "    .dataframe tbody tr th {\n",
              "        vertical-align: top;\n",
              "    }\n",
              "\n",
              "    .dataframe thead th {\n",
              "        text-align: right;\n",
              "    }\n",
              "</style>\n",
              "<table border=\"1\" class=\"dataframe\">\n",
              "  <thead>\n",
              "    <tr style=\"text-align: right;\">\n",
              "      <th></th>\n",
              "      <th>id</th>\n",
              "      <th>vehicle_component</th>\n",
              "      <th>complaint</th>\n",
              "      <th>transformer_embedding</th>\n",
              "      <th>glove_embedding</th>\n",
              "    </tr>\n",
              "  </thead>\n",
              "  <tbody>\n",
              "    <tr>\n",
              "      <th>12418</th>\n",
              "      <td>1749693</td>\n",
              "      <td>ELECTRICAL SYSTEM</td>\n",
              "      <td>think unfair manufacture problem unnoticed left people pay already pay enough car also worry manufacture problem leave unattended company certainly dangerous might car battery die way get immediate help right car acknowledge park mode one day car start use wrong shift unknowingly end car accident wont able anything leave unnoticed recall make even danger present driver car information find https mazda oemdtc com ignition turn press startstop button mazda</td>\n",
              "      <td>[-0.030233692, 0.032133438, 0.022760015, 0.021018686, 0.05256883, 0.13174456, 0.089021936, 0.055530675, -0.07448465, 0.037720595, 0.12936272, 0.018751448, -0.005752621, 0.0077214474, -0.014856036, -0.04564667, 0.0426663, -0.011937177, -0.0778882, 0.018217236, -0.060160227, -0.018547496, -0.045764185, 0.07866061, -0.081829645, -0.0068552443, 0.0015151186, 0.034842126, 0.07637082, -0.0868866, -0.0038601076, 0.07929665, 0.040965002, -0.07605302, 0.0041219736, -0.067651115, -0.04374159, -0.01342...</td>\n",
              "      <td>[0.00060105877, 0.22678807, -0.13958123, 0.015119894, 0.024455028, -0.08711454, -0.07454371, -0.14263138, -0.04353049, 1.9338084, -0.13678229, 0.041464515, -0.05595109, -0.0056651365, -0.3084877, -0.12516601, -0.21803729, 1.1765188, -0.038645644, 0.05742539, 0.019516852, -0.08444442, 0.09006737, -0.07368893, 0.04290676, -0.07467095, -0.046565898, -0.16555168, 0.09879612, -0.15640289, 0.036210693, -0.11712872, -0.107714295, 0.17498374, 0.064284556, 0.021991171, 0.05353815, 0.07843531, 0.00479...</td>\n",
              "    </tr>\n",
              "    <tr>\n",
              "      <th>50833</th>\n",
              "      <td>1664128</td>\n",
              "      <td>SERVICE BRAKES</td>\n",
              "      <td>happen three time three year suddenly error message pop say electrical park brake problem first two time go away fiddled electrical parking error message go away third time start car brake pad move car stationary happen park lot tr</td>\n",
              "      <td>[-0.015238783, -0.051335715, 0.07837318, -0.033296652, 0.01381467, 0.0027175515, 0.051877927, 0.034465775, 0.09381481, 0.03440375, 0.107392564, -0.04904155, -0.0009952801, 0.027641423, -0.038501553, 0.006690969, -0.018557493, -0.019476881, -0.060030974, 0.043450166, 0.045401365, -0.014163181, -0.08441091, 0.08502019, -0.09116967, 0.055372763, -0.06364056, 0.026626162, 0.01674105, 0.023404744, -0.032732133, 0.033560693, 0.011472247, -0.013425471, 0.035449237, 0.056625273, -0.082529604, -0.036...</td>\n",
              "      <td>[0.25179362, 0.25886455, -0.06877896, -0.16750361, 0.032142807, -0.028235191, -0.08752924, -0.23182622, -0.11843743, 1.8754237, -4.5582172e-05, 0.08300912, -0.014669971, 0.0051850597, -0.35737783, -0.14584093, -0.009774891, 1.3699056, -0.08814926, 0.11366577, 0.09847581, -0.05505011, 0.069685616, -0.12687835, 0.12357699, -0.03263268, -0.03939826, -0.14043011, 0.0953412, -0.062985994, -0.07978461, -0.022129044, -0.057104617, 0.016791968, 0.11957993, 0.12575503, 0.07800268, 0.101803035, 0.0370...</td>\n",
              "    </tr>\n",
              "    <tr>\n",
              "      <th>6744</th>\n",
              "      <td>1637923</td>\n",
              "      <td>AIR BAGS</td>\n",
              "      <td>one day air bag failiure light come om along fuel cutoff unavailble light light temporarily fix manually lock unlock door recently fix worked error happen cruise control turn</td>\n",
              "      <td>[-0.033651054, 0.043016322, -0.017984105, 0.12798707, 0.03197828, -0.014826645, 0.058550425, -0.027831689, -0.012732637, 0.04005575, 0.15731415, 0.016853487, -0.036108844, 0.026284905, -0.0190675, 0.059456788, -0.04531917, -0.09567009, -0.057926938, 0.015499791, 0.03423588, -0.025321709, -0.00068101, 0.01597516, -0.082938485, -0.02117651, -0.023821779, 0.018956577, -0.01648202, -0.02052895, 0.032284204, 0.062101085, -0.029241113, 0.005826448, 0.099739715, 0.01028861, -0.022457954, -0.0194876...</td>\n",
              "      <td>[0.078259125, 0.14325035, 0.08262812, -0.014705657, -0.08233604, -0.0027936536, -0.10907388, -0.10794346, -0.05134443, 1.3804443, 0.03177326, 0.077025846, -0.046471033, -0.049769457, -0.176685, -0.17192644, -0.025476553, 1.3686185, -0.062250655, 0.010685643, 0.10074313, -0.035462413, -0.0048686126, -0.069500536, -0.08423969, -0.05831504, -0.11176141, -0.21926877, 0.10325934, -0.05728754, -0.10215102, -0.040776614, -0.051137574, 0.025116425, -0.0038626115, -0.031530745, 0.0008640335, -0.01012...</td>\n",
              "    </tr>\n",
              "    <tr>\n",
              "      <th>34095</th>\n",
              "      <td>1654939</td>\n",
              "      <td>POWER TRAIN</td>\n",
              "      <td>drive ford escape turbo interstate start feel like transmission slip day later check engine light come code p b dealer code p reilly auto part reilly say generic code cam shaft sensor ford say code p b coolant bypass valve c need replace cost noticed ton complaint escape even recall problem ford escape turbo obviously need recall well also ford dealer mike murphy ford morton il say transmission fine though feel like</td>\n",
              "      <td>[-0.06923738, -0.08915639, 0.06522927, 0.071054265, 0.022880306, 0.06815305, 0.060104504, 0.001432855, -0.01150523, -0.0442396, 0.06568161, -0.04851977, -0.01130552, -0.051788237, 0.017203078, -0.018692557, 0.07753968, -0.044262946, -0.027133225, -0.023756236, -0.09774977, 0.0155427335, -0.06688957, 0.08468998, -0.06959488, 0.059664965, -0.050436925, 0.0834055, 0.013586959, -0.09034566, -0.07832587, 0.03893884, -0.061033264, 0.018631365, 0.065544486, -0.06120817, -0.057029065, 0.019242944, 0...</td>\n",
              "      <td>[0.027058586, 0.28849366, -0.09220874, -0.078520805, 0.13816594, 0.016369203, 0.021603566, -0.18672574, 0.015348776, 1.2862654, -0.08398353, -0.011511967, 0.06992565, -0.20077991, -0.29659903, -0.13963878, -0.17402352, 1.431752, -0.12479244, -0.020641379, 0.09096382, -0.1506973, 0.07126474, -0.14716166, -0.039823968, -0.024986615, -0.14328073, -0.19125618, 0.18559957, 0.06650853, -0.036680404, -0.005337121, -0.014197332, 0.014320342, 0.017113538, -0.045151167, -0.008949817, 0.086723484, -0.1...</td>\n",
              "    </tr>\n",
              "    <tr>\n",
              "      <th>12164</th>\n",
              "      <td>1730610</td>\n",
              "      <td>ELECTRICAL SYSTEM</td>\n",
              "      <td>tl contact own ram contact state vehicle park contact notice oil leak underneath vehicle vehicle take independent mechanic diagnose crack engine filter housing coolant unit vehicle repair contact receive notification nhtsa campaign number v electrical system vehicle speed control v latch lock linkages however part recall repair unavailable dealer central chrysler jeep boston providence turnpike norwood contact confirm part yet available contact state manufacturer exceed reasonable amount tim...</td>\n",
              "      <td>[-0.13712965, -0.037152294, 0.1050495, 0.0064556003, 0.0145426355, 0.032075662, 0.0034053654, 0.013819418, 0.00999706, -0.07504839, 0.024878073, -0.08774059, -0.039908983, -0.08653034, -0.021644251, -0.015854424, 0.054424774, 0.0070585436, -0.034778275, -0.13067068, 0.023058238, 0.061378364, -0.01867224, 0.07331347, -0.14929198, 0.04418584, 0.043427736, 0.024671527, -0.024701195, -0.035148557, -0.034046054, 0.024392517, -0.047043495, 0.0032199903, 0.05119901, -0.021034362, -0.068591714, 0.00...</td>\n",
              "      <td>[0.14200008, 0.22929566, -0.03855455, 0.014933971, 0.1069296, -0.10290361, -0.13335665, -0.23999237, -0.04076034, 1.528655, -0.117373385, -0.003327625, -0.052089456, -0.1881613, -0.27471337, -0.11826014, -0.10564815, 1.4854552, -0.145039, 0.0039143637, 0.13205452, -0.16630968, 0.020787312, -0.13542758, 0.1051707, -0.003425244, -0.10748004, -0.14007246, 0.13954604, -0.015087329, 0.009022529, -0.05506965, -0.0333714, 0.16917354, -0.046575915, 0.01118408, -0.058261096, 0.059432324, -0.003268461...</td>\n",
              "    </tr>\n",
              "  </tbody>\n",
              "</table>\n",
              "</div>\n",
              "      <button class=\"colab-df-convert\" onclick=\"convertToInteractive('df-f8a5cae6-31f8-42bb-b347-6e0a22949fe1')\"\n",
              "              title=\"Convert this dataframe to an interactive table.\"\n",
              "              style=\"display:none;\">\n",
              "        \n",
              "  <svg xmlns=\"http://www.w3.org/2000/svg\" height=\"24px\"viewBox=\"0 0 24 24\"\n",
              "       width=\"24px\">\n",
              "    <path d=\"M0 0h24v24H0V0z\" fill=\"none\"/>\n",
              "    <path d=\"M18.56 5.44l.94 2.06.94-2.06 2.06-.94-2.06-.94-.94-2.06-.94 2.06-2.06.94zm-11 1L8.5 8.5l.94-2.06 2.06-.94-2.06-.94L8.5 2.5l-.94 2.06-2.06.94zm10 10l.94 2.06.94-2.06 2.06-.94-2.06-.94-.94-2.06-.94 2.06-2.06.94z\"/><path d=\"M17.41 7.96l-1.37-1.37c-.4-.4-.92-.59-1.43-.59-.52 0-1.04.2-1.43.59L10.3 9.45l-7.72 7.72c-.78.78-.78 2.05 0 2.83L4 21.41c.39.39.9.59 1.41.59.51 0 1.02-.2 1.41-.59l7.78-7.78 2.81-2.81c.8-.78.8-2.07 0-2.86zM5.41 20L4 18.59l7.72-7.72 1.47 1.35L5.41 20z\"/>\n",
              "  </svg>\n",
              "      </button>\n",
              "      \n",
              "  <style>\n",
              "    .colab-df-container {\n",
              "      display:flex;\n",
              "      flex-wrap:wrap;\n",
              "      gap: 12px;\n",
              "    }\n",
              "\n",
              "    .colab-df-convert {\n",
              "      background-color: #E8F0FE;\n",
              "      border: none;\n",
              "      border-radius: 50%;\n",
              "      cursor: pointer;\n",
              "      display: none;\n",
              "      fill: #1967D2;\n",
              "      height: 32px;\n",
              "      padding: 0 0 0 0;\n",
              "      width: 32px;\n",
              "    }\n",
              "\n",
              "    .colab-df-convert:hover {\n",
              "      background-color: #E2EBFA;\n",
              "      box-shadow: 0px 1px 2px rgba(60, 64, 67, 0.3), 0px 1px 3px 1px rgba(60, 64, 67, 0.15);\n",
              "      fill: #174EA6;\n",
              "    }\n",
              "\n",
              "    [theme=dark] .colab-df-convert {\n",
              "      background-color: #3B4455;\n",
              "      fill: #D2E3FC;\n",
              "    }\n",
              "\n",
              "    [theme=dark] .colab-df-convert:hover {\n",
              "      background-color: #434B5C;\n",
              "      box-shadow: 0px 1px 3px 1px rgba(0, 0, 0, 0.15);\n",
              "      filter: drop-shadow(0px 1px 2px rgba(0, 0, 0, 0.3));\n",
              "      fill: #FFFFFF;\n",
              "    }\n",
              "  </style>\n",
              "\n",
              "      <script>\n",
              "        const buttonEl =\n",
              "          document.querySelector('#df-f8a5cae6-31f8-42bb-b347-6e0a22949fe1 button.colab-df-convert');\n",
              "        buttonEl.style.display =\n",
              "          google.colab.kernel.accessAllowed ? 'block' : 'none';\n",
              "\n",
              "        async function convertToInteractive(key) {\n",
              "          const element = document.querySelector('#df-f8a5cae6-31f8-42bb-b347-6e0a22949fe1');\n",
              "          const dataTable =\n",
              "            await google.colab.kernel.invokeFunction('convertToInteractive',\n",
              "                                                     [key], {});\n",
              "          if (!dataTable) return;\n",
              "\n",
              "          const docLinkHtml = 'Like what you see? Visit the ' +\n",
              "            '<a target=\"_blank\" href=https://colab.research.google.com/notebooks/data_table.ipynb>data table notebook</a>'\n",
              "            + ' to learn more about interactive tables.';\n",
              "          element.innerHTML = '';\n",
              "          dataTable['output_type'] = 'display_data';\n",
              "          await google.colab.output.renderOutput(dataTable, element);\n",
              "          const docLink = document.createElement('div');\n",
              "          docLink.innerHTML = docLinkHtml;\n",
              "          element.appendChild(docLink);\n",
              "        }\n",
              "      </script>\n",
              "    </div>\n",
              "  </div>\n",
              "  "
            ]
          },
          "metadata": {},
          "execution_count": 47
        }
      ],
      "source": [
        "df[['id','vehicle_component','complaint','transformer_embedding','glove_embedding']].sample(5)"
      ]
    },
    {
      "cell_type": "code",
      "execution_count": 48,
      "id": "b80f4f45-ebec-42ab-a7ad-d54dbfb75499",
      "metadata": {
        "tags": [],
        "id": "b80f4f45-ebec-42ab-a7ad-d54dbfb75499"
      },
      "outputs": [],
      "source": [
        "# save embeddings\n",
        "df.to_parquet('df_embeddings.parquet')"
      ]
    },
    {
      "cell_type": "markdown",
      "id": "265c46cf-595b-4f1c-9673-b83140d3ef5e",
      "metadata": {
        "id": "265c46cf-595b-4f1c-9673-b83140d3ef5e"
      },
      "source": [
        "## Classification"
      ]
    },
    {
      "cell_type": "code",
      "execution_count": 49,
      "id": "8f616f59",
      "metadata": {
        "id": "8f616f59"
      },
      "outputs": [],
      "source": [
        "from sklearn.metrics import accuracy_score, precision_score, recall_score, f1_score, confusion_matrix\n",
        "\n",
        "def assess_performance(y_pred,y_val):\n",
        "    \n",
        "    print(\"Accuracy:\", round(accuracy_score(y_val.tolist(), y_pred),3))\n",
        "    print(\"Precision:\", round(precision_score(y_val.tolist(), y_pred, average='weighted'),3))\n",
        "    print(\"Recall:\", round(recall_score(y_val.tolist(), y_pred, average='weighted'),3))\n",
        "    print(\"F1 score:\", round(f1_score(y_val.tolist(), y_pred, average='weighted'),3))\n",
        "    "
      ]
    },
    {
      "cell_type": "code",
      "execution_count": 50,
      "id": "bc9bc4f7-4ae3-4968-b575-ad01fd7c9ac3",
      "metadata": {
        "tags": [],
        "colab": {
          "base_uri": "https://localhost:8080/"
        },
        "id": "bc9bc4f7-4ae3-4968-b575-ad01fd7c9ac3",
        "outputId": "ea2cf2cc-1f88-4611-e7cd-99e1dda28e63"
      },
      "outputs": [
        {
          "output_type": "stream",
          "name": "stdout",
          "text": [
            "Train set size:  36131\n",
            "Test set size:  24088\n"
          ]
        }
      ],
      "source": [
        "from sklearn.linear_model import LogisticRegression\n",
        "\n",
        "from sklearn.model_selection import train_test_split\n",
        "\n",
        "X = df[['transformer_embedding','glove_embedding']]\n",
        "y = df['vehicle_component']\n",
        "\n",
        "# Split the data into train, validation, and test sets\n",
        "X_train, X_test, y_train, y_test = train_test_split(X, y, test_size=0.4, random_state=42)\n",
        "\n",
        "# Print the number of rows in each set\n",
        "print(\"Train set size: \", len(X_train))\n",
        "print(\"Test set size: \", len(X_test))\n"
      ]
    },
    {
      "cell_type": "markdown",
      "id": "7f60d2a0",
      "metadata": {
        "id": "7f60d2a0"
      },
      "source": [
        "### Transformer"
      ]
    },
    {
      "cell_type": "code",
      "execution_count": 51,
      "id": "f23e11ee",
      "metadata": {
        "id": "f23e11ee"
      },
      "outputs": [],
      "source": [
        "X_train_t, X_test_t = X_train['transformer_embedding'], X_test['transformer_embedding']"
      ]
    },
    {
      "cell_type": "code",
      "execution_count": 52,
      "id": "2a238bb9-ba39-46d8-9594-d02e70bd3c9f",
      "metadata": {
        "tags": [],
        "colab": {
          "base_uri": "https://localhost:8080/"
        },
        "id": "2a238bb9-ba39-46d8-9594-d02e70bd3c9f",
        "outputId": "61a27e04-cce8-4f68-9e55-011399e37f47"
      },
      "outputs": [
        {
          "output_type": "stream",
          "name": "stdout",
          "text": [
            "Accuracy: 0.694\n",
            "Precision: 0.695\n",
            "Recall: 0.694\n",
            "F1 score: 0.694\n"
          ]
        }
      ],
      "source": [
        "# train\n",
        "transformer_log_model = LogisticRegression(random_state=42, max_iter = 1000)\n",
        "transformer_log_model.fit(X_train_t.tolist(), y_train.tolist())\n",
        "\n",
        "# assess\n",
        "y_pred_tl = transformer_log_model.predict(X_test_t.tolist())\n",
        "assess_performance(y_pred_tl,y_test)"
      ]
    },
    {
      "cell_type": "markdown",
      "id": "4fec9f1b-ca25-4c2c-b776-857097574134",
      "metadata": {
        "id": "4fec9f1b-ca25-4c2c-b776-857097574134"
      },
      "source": [
        "### GloVe"
      ]
    },
    {
      "cell_type": "code",
      "execution_count": 53,
      "id": "60f3e695",
      "metadata": {
        "id": "60f3e695"
      },
      "outputs": [],
      "source": [
        "X_train_g, X_test_g = X_train['glove_embedding'], X_test['glove_embedding']"
      ]
    },
    {
      "cell_type": "code",
      "execution_count": 54,
      "id": "0764a1fa-6dab-456a-888b-8fe1c240e4f6",
      "metadata": {
        "tags": [],
        "colab": {
          "base_uri": "https://localhost:8080/"
        },
        "id": "0764a1fa-6dab-456a-888b-8fe1c240e4f6",
        "outputId": "fc9730be-d850-4158-be78-2973354bb8ef"
      },
      "outputs": [
        {
          "output_type": "stream",
          "name": "stdout",
          "text": [
            "Accuracy: 0.683\n",
            "Precision: 0.683\n",
            "Recall: 0.683\n",
            "F1 score: 0.682\n"
          ]
        }
      ],
      "source": [
        "# train\n",
        "glove_log_model = LogisticRegression(random_state=42, max_iter = 1000)\n",
        "glove_log_model.fit(X_train_g.tolist(), y_train.tolist())\n",
        "\n",
        "# assess\n",
        "y_pred_gl = glove_log_model.predict(X_test_g.tolist())\n",
        "assess_performance(y_pred_gl,y_test)"
      ]
    },
    {
      "cell_type": "code",
      "source": [],
      "metadata": {
        "id": "9lr2_JO_wQg2"
      },
      "id": "9lr2_JO_wQg2",
      "execution_count": null,
      "outputs": []
    }
  ],
  "metadata": {
    "availableInstances": [
      {
        "_defaultOrder": 0,
        "_isFastLaunch": true,
        "category": "General purpose",
        "gpuNum": 0,
        "memoryGiB": 4,
        "name": "ml.t3.medium",
        "vcpuNum": 2
      },
      {
        "_defaultOrder": 1,
        "_isFastLaunch": false,
        "category": "General purpose",
        "gpuNum": 0,
        "memoryGiB": 8,
        "name": "ml.t3.large",
        "vcpuNum": 2
      },
      {
        "_defaultOrder": 2,
        "_isFastLaunch": false,
        "category": "General purpose",
        "gpuNum": 0,
        "memoryGiB": 16,
        "name": "ml.t3.xlarge",
        "vcpuNum": 4
      },
      {
        "_defaultOrder": 3,
        "_isFastLaunch": false,
        "category": "General purpose",
        "gpuNum": 0,
        "memoryGiB": 32,
        "name": "ml.t3.2xlarge",
        "vcpuNum": 8
      },
      {
        "_defaultOrder": 4,
        "_isFastLaunch": true,
        "category": "General purpose",
        "gpuNum": 0,
        "memoryGiB": 8,
        "name": "ml.m5.large",
        "vcpuNum": 2
      },
      {
        "_defaultOrder": 5,
        "_isFastLaunch": false,
        "category": "General purpose",
        "gpuNum": 0,
        "memoryGiB": 16,
        "name": "ml.m5.xlarge",
        "vcpuNum": 4
      },
      {
        "_defaultOrder": 6,
        "_isFastLaunch": false,
        "category": "General purpose",
        "gpuNum": 0,
        "memoryGiB": 32,
        "name": "ml.m5.2xlarge",
        "vcpuNum": 8
      },
      {
        "_defaultOrder": 7,
        "_isFastLaunch": false,
        "category": "General purpose",
        "gpuNum": 0,
        "memoryGiB": 64,
        "name": "ml.m5.4xlarge",
        "vcpuNum": 16
      },
      {
        "_defaultOrder": 8,
        "_isFastLaunch": false,
        "category": "General purpose",
        "gpuNum": 0,
        "memoryGiB": 128,
        "name": "ml.m5.8xlarge",
        "vcpuNum": 32
      },
      {
        "_defaultOrder": 9,
        "_isFastLaunch": false,
        "category": "General purpose",
        "gpuNum": 0,
        "memoryGiB": 192,
        "name": "ml.m5.12xlarge",
        "vcpuNum": 48
      },
      {
        "_defaultOrder": 10,
        "_isFastLaunch": false,
        "category": "General purpose",
        "gpuNum": 0,
        "memoryGiB": 256,
        "name": "ml.m5.16xlarge",
        "vcpuNum": 64
      },
      {
        "_defaultOrder": 11,
        "_isFastLaunch": false,
        "category": "General purpose",
        "gpuNum": 0,
        "memoryGiB": 384,
        "name": "ml.m5.24xlarge",
        "vcpuNum": 96
      },
      {
        "_defaultOrder": 12,
        "_isFastLaunch": false,
        "category": "General purpose",
        "gpuNum": 0,
        "memoryGiB": 8,
        "name": "ml.m5d.large",
        "vcpuNum": 2
      },
      {
        "_defaultOrder": 13,
        "_isFastLaunch": false,
        "category": "General purpose",
        "gpuNum": 0,
        "memoryGiB": 16,
        "name": "ml.m5d.xlarge",
        "vcpuNum": 4
      },
      {
        "_defaultOrder": 14,
        "_isFastLaunch": false,
        "category": "General purpose",
        "gpuNum": 0,
        "memoryGiB": 32,
        "name": "ml.m5d.2xlarge",
        "vcpuNum": 8
      },
      {
        "_defaultOrder": 15,
        "_isFastLaunch": false,
        "category": "General purpose",
        "gpuNum": 0,
        "memoryGiB": 64,
        "name": "ml.m5d.4xlarge",
        "vcpuNum": 16
      },
      {
        "_defaultOrder": 16,
        "_isFastLaunch": false,
        "category": "General purpose",
        "gpuNum": 0,
        "memoryGiB": 128,
        "name": "ml.m5d.8xlarge",
        "vcpuNum": 32
      },
      {
        "_defaultOrder": 17,
        "_isFastLaunch": false,
        "category": "General purpose",
        "gpuNum": 0,
        "memoryGiB": 192,
        "name": "ml.m5d.12xlarge",
        "vcpuNum": 48
      },
      {
        "_defaultOrder": 18,
        "_isFastLaunch": false,
        "category": "General purpose",
        "gpuNum": 0,
        "memoryGiB": 256,
        "name": "ml.m5d.16xlarge",
        "vcpuNum": 64
      },
      {
        "_defaultOrder": 19,
        "_isFastLaunch": false,
        "category": "General purpose",
        "gpuNum": 0,
        "memoryGiB": 384,
        "name": "ml.m5d.24xlarge",
        "vcpuNum": 96
      },
      {
        "_defaultOrder": 20,
        "_isFastLaunch": true,
        "category": "Compute optimized",
        "gpuNum": 0,
        "memoryGiB": 4,
        "name": "ml.c5.large",
        "vcpuNum": 2
      },
      {
        "_defaultOrder": 21,
        "_isFastLaunch": false,
        "category": "Compute optimized",
        "gpuNum": 0,
        "memoryGiB": 8,
        "name": "ml.c5.xlarge",
        "vcpuNum": 4
      },
      {
        "_defaultOrder": 22,
        "_isFastLaunch": false,
        "category": "Compute optimized",
        "gpuNum": 0,
        "memoryGiB": 16,
        "name": "ml.c5.2xlarge",
        "vcpuNum": 8
      },
      {
        "_defaultOrder": 23,
        "_isFastLaunch": false,
        "category": "Compute optimized",
        "gpuNum": 0,
        "memoryGiB": 32,
        "name": "ml.c5.4xlarge",
        "vcpuNum": 16
      },
      {
        "_defaultOrder": 24,
        "_isFastLaunch": false,
        "category": "Compute optimized",
        "gpuNum": 0,
        "memoryGiB": 72,
        "name": "ml.c5.9xlarge",
        "vcpuNum": 36
      },
      {
        "_defaultOrder": 25,
        "_isFastLaunch": false,
        "category": "Compute optimized",
        "gpuNum": 0,
        "memoryGiB": 96,
        "name": "ml.c5.12xlarge",
        "vcpuNum": 48
      },
      {
        "_defaultOrder": 26,
        "_isFastLaunch": false,
        "category": "Compute optimized",
        "gpuNum": 0,
        "memoryGiB": 144,
        "name": "ml.c5.18xlarge",
        "vcpuNum": 72
      },
      {
        "_defaultOrder": 27,
        "_isFastLaunch": false,
        "category": "Compute optimized",
        "gpuNum": 0,
        "memoryGiB": 192,
        "name": "ml.c5.24xlarge",
        "vcpuNum": 96
      },
      {
        "_defaultOrder": 28,
        "_isFastLaunch": true,
        "category": "Accelerated computing",
        "gpuNum": 1,
        "memoryGiB": 16,
        "name": "ml.g4dn.xlarge",
        "vcpuNum": 4
      },
      {
        "_defaultOrder": 29,
        "_isFastLaunch": false,
        "category": "Accelerated computing",
        "gpuNum": 1,
        "memoryGiB": 32,
        "name": "ml.g4dn.2xlarge",
        "vcpuNum": 8
      },
      {
        "_defaultOrder": 30,
        "_isFastLaunch": false,
        "category": "Accelerated computing",
        "gpuNum": 1,
        "memoryGiB": 64,
        "name": "ml.g4dn.4xlarge",
        "vcpuNum": 16
      },
      {
        "_defaultOrder": 31,
        "_isFastLaunch": false,
        "category": "Accelerated computing",
        "gpuNum": 1,
        "memoryGiB": 128,
        "name": "ml.g4dn.8xlarge",
        "vcpuNum": 32
      },
      {
        "_defaultOrder": 32,
        "_isFastLaunch": false,
        "category": "Accelerated computing",
        "gpuNum": 4,
        "memoryGiB": 192,
        "name": "ml.g4dn.12xlarge",
        "vcpuNum": 48
      },
      {
        "_defaultOrder": 33,
        "_isFastLaunch": false,
        "category": "Accelerated computing",
        "gpuNum": 1,
        "memoryGiB": 256,
        "name": "ml.g4dn.16xlarge",
        "vcpuNum": 64
      },
      {
        "_defaultOrder": 34,
        "_isFastLaunch": false,
        "category": "Accelerated computing",
        "gpuNum": 1,
        "memoryGiB": 61,
        "name": "ml.p3.2xlarge",
        "vcpuNum": 8
      },
      {
        "_defaultOrder": 35,
        "_isFastLaunch": false,
        "category": "Accelerated computing",
        "gpuNum": 4,
        "memoryGiB": 244,
        "name": "ml.p3.8xlarge",
        "vcpuNum": 32
      },
      {
        "_defaultOrder": 36,
        "_isFastLaunch": false,
        "category": "Accelerated computing",
        "gpuNum": 8,
        "memoryGiB": 488,
        "name": "ml.p3.16xlarge",
        "vcpuNum": 64
      },
      {
        "_defaultOrder": 37,
        "_isFastLaunch": false,
        "category": "Accelerated computing",
        "gpuNum": 8,
        "memoryGiB": 768,
        "name": "ml.p3dn.24xlarge",
        "vcpuNum": 96
      },
      {
        "_defaultOrder": 38,
        "_isFastLaunch": false,
        "category": "Memory Optimized",
        "gpuNum": 0,
        "memoryGiB": 16,
        "name": "ml.r5.large",
        "vcpuNum": 2
      },
      {
        "_defaultOrder": 39,
        "_isFastLaunch": false,
        "category": "Memory Optimized",
        "gpuNum": 0,
        "memoryGiB": 32,
        "name": "ml.r5.xlarge",
        "vcpuNum": 4
      },
      {
        "_defaultOrder": 40,
        "_isFastLaunch": false,
        "category": "Memory Optimized",
        "gpuNum": 0,
        "memoryGiB": 64,
        "name": "ml.r5.2xlarge",
        "vcpuNum": 8
      },
      {
        "_defaultOrder": 41,
        "_isFastLaunch": false,
        "category": "Memory Optimized",
        "gpuNum": 0,
        "memoryGiB": 128,
        "name": "ml.r5.4xlarge",
        "vcpuNum": 16
      },
      {
        "_defaultOrder": 42,
        "_isFastLaunch": false,
        "category": "Memory Optimized",
        "gpuNum": 0,
        "memoryGiB": 256,
        "name": "ml.r5.8xlarge",
        "vcpuNum": 32
      },
      {
        "_defaultOrder": 43,
        "_isFastLaunch": false,
        "category": "Memory Optimized",
        "gpuNum": 0,
        "memoryGiB": 384,
        "name": "ml.r5.12xlarge",
        "vcpuNum": 48
      },
      {
        "_defaultOrder": 44,
        "_isFastLaunch": false,
        "category": "Memory Optimized",
        "gpuNum": 0,
        "memoryGiB": 512,
        "name": "ml.r5.16xlarge",
        "vcpuNum": 64
      },
      {
        "_defaultOrder": 45,
        "_isFastLaunch": false,
        "category": "Memory Optimized",
        "gpuNum": 0,
        "memoryGiB": 768,
        "name": "ml.r5.24xlarge",
        "vcpuNum": 96
      },
      {
        "_defaultOrder": 46,
        "_isFastLaunch": false,
        "category": "Accelerated computing",
        "gpuNum": 1,
        "memoryGiB": 16,
        "name": "ml.g5.xlarge",
        "vcpuNum": 4
      },
      {
        "_defaultOrder": 47,
        "_isFastLaunch": false,
        "category": "Accelerated computing",
        "gpuNum": 1,
        "memoryGiB": 32,
        "name": "ml.g5.2xlarge",
        "vcpuNum": 8
      },
      {
        "_defaultOrder": 48,
        "_isFastLaunch": false,
        "category": "Accelerated computing",
        "gpuNum": 1,
        "memoryGiB": 64,
        "name": "ml.g5.4xlarge",
        "vcpuNum": 16
      },
      {
        "_defaultOrder": 49,
        "_isFastLaunch": false,
        "category": "Accelerated computing",
        "gpuNum": 1,
        "memoryGiB": 128,
        "name": "ml.g5.8xlarge",
        "vcpuNum": 32
      },
      {
        "_defaultOrder": 50,
        "_isFastLaunch": false,
        "category": "Accelerated computing",
        "gpuNum": 1,
        "memoryGiB": 256,
        "name": "ml.g5.16xlarge",
        "vcpuNum": 64
      },
      {
        "_defaultOrder": 51,
        "_isFastLaunch": false,
        "category": "Accelerated computing",
        "gpuNum": 4,
        "memoryGiB": 192,
        "name": "ml.g5.12xlarge",
        "vcpuNum": 48
      },
      {
        "_defaultOrder": 52,
        "_isFastLaunch": false,
        "category": "Accelerated computing",
        "gpuNum": 4,
        "memoryGiB": 384,
        "name": "ml.g5.24xlarge",
        "vcpuNum": 96
      },
      {
        "_defaultOrder": 53,
        "_isFastLaunch": false,
        "category": "Accelerated computing",
        "gpuNum": 8,
        "memoryGiB": 768,
        "name": "ml.g5.48xlarge",
        "vcpuNum": 192
      }
    ],
    "instance_type": "ml.g4dn.xlarge",
    "kernelspec": {
      "display_name": "base",
      "language": "python",
      "name": "python3"
    },
    "language_info": {
      "codemirror_mode": {
        "name": "ipython",
        "version": 3
      },
      "file_extension": ".py",
      "mimetype": "text/x-python",
      "name": "python",
      "nbconvert_exporter": "python",
      "pygments_lexer": "ipython3",
      "version": "3.9.13"
    },
    "colab": {
      "provenance": []
    },
    "accelerator": "GPU",
    "gpuClass": "standard",
    "widgets": {
      "application/vnd.jupyter.widget-state+json": {
        "4a81d4d9533b42a8932cc504b74ca780": {
          "model_module": "@jupyter-widgets/controls",
          "model_name": "HBoxModel",
          "model_module_version": "1.5.0",
          "state": {
            "_dom_classes": [],
            "_model_module": "@jupyter-widgets/controls",
            "_model_module_version": "1.5.0",
            "_model_name": "HBoxModel",
            "_view_count": null,
            "_view_module": "@jupyter-widgets/controls",
            "_view_module_version": "1.5.0",
            "_view_name": "HBoxView",
            "box_style": "",
            "children": [
              "IPY_MODEL_84fed4e53093401bbdc630dff7a7f837",
              "IPY_MODEL_0c8bff80d28c4ef5bfbc1377c0ff3d5f",
              "IPY_MODEL_3a93f37e75d44a1db6adc8b3b166bb25"
            ],
            "layout": "IPY_MODEL_0d892c1814e647ebae04e3ae7cc3df67"
          }
        },
        "84fed4e53093401bbdc630dff7a7f837": {
          "model_module": "@jupyter-widgets/controls",
          "model_name": "HTMLModel",
          "model_module_version": "1.5.0",
          "state": {
            "_dom_classes": [],
            "_model_module": "@jupyter-widgets/controls",
            "_model_module_version": "1.5.0",
            "_model_name": "HTMLModel",
            "_view_count": null,
            "_view_module": "@jupyter-widgets/controls",
            "_view_module_version": "1.5.0",
            "_view_name": "HTMLView",
            "description": "",
            "description_tooltip": null,
            "layout": "IPY_MODEL_02724f1a6d014533a89c06513d6a6eb0",
            "placeholder": "​",
            "style": "IPY_MODEL_cd889fcdb20e4ee8af6337a5285dccd2",
            "value": "100%"
          }
        },
        "0c8bff80d28c4ef5bfbc1377c0ff3d5f": {
          "model_module": "@jupyter-widgets/controls",
          "model_name": "FloatProgressModel",
          "model_module_version": "1.5.0",
          "state": {
            "_dom_classes": [],
            "_model_module": "@jupyter-widgets/controls",
            "_model_module_version": "1.5.0",
            "_model_name": "FloatProgressModel",
            "_view_count": null,
            "_view_module": "@jupyter-widgets/controls",
            "_view_module_version": "1.5.0",
            "_view_name": "ProgressView",
            "bar_style": "success",
            "description": "",
            "description_tooltip": null,
            "layout": "IPY_MODEL_0a6a21e628f5470e97c0daf961ea936e",
            "max": 70000,
            "min": 0,
            "orientation": "horizontal",
            "style": "IPY_MODEL_aa2033b7e4de4a3d9c6fd10426f029bc",
            "value": 70000
          }
        },
        "3a93f37e75d44a1db6adc8b3b166bb25": {
          "model_module": "@jupyter-widgets/controls",
          "model_name": "HTMLModel",
          "model_module_version": "1.5.0",
          "state": {
            "_dom_classes": [],
            "_model_module": "@jupyter-widgets/controls",
            "_model_module_version": "1.5.0",
            "_model_name": "HTMLModel",
            "_view_count": null,
            "_view_module": "@jupyter-widgets/controls",
            "_view_module_version": "1.5.0",
            "_view_name": "HTMLView",
            "description": "",
            "description_tooltip": null,
            "layout": "IPY_MODEL_3012937e257a47009ab3165ed2ddaadc",
            "placeholder": "​",
            "style": "IPY_MODEL_6dfe1a5ba85c4a6faa9e6f8c2b6b0b5f",
            "value": " 70000/70000 [05:14&lt;00:00, 298.77it/s]"
          }
        },
        "0d892c1814e647ebae04e3ae7cc3df67": {
          "model_module": "@jupyter-widgets/base",
          "model_name": "LayoutModel",
          "model_module_version": "1.2.0",
          "state": {
            "_model_module": "@jupyter-widgets/base",
            "_model_module_version": "1.2.0",
            "_model_name": "LayoutModel",
            "_view_count": null,
            "_view_module": "@jupyter-widgets/base",
            "_view_module_version": "1.2.0",
            "_view_name": "LayoutView",
            "align_content": null,
            "align_items": null,
            "align_self": null,
            "border": null,
            "bottom": null,
            "display": null,
            "flex": null,
            "flex_flow": null,
            "grid_area": null,
            "grid_auto_columns": null,
            "grid_auto_flow": null,
            "grid_auto_rows": null,
            "grid_column": null,
            "grid_gap": null,
            "grid_row": null,
            "grid_template_areas": null,
            "grid_template_columns": null,
            "grid_template_rows": null,
            "height": null,
            "justify_content": null,
            "justify_items": null,
            "left": null,
            "margin": null,
            "max_height": null,
            "max_width": null,
            "min_height": null,
            "min_width": null,
            "object_fit": null,
            "object_position": null,
            "order": null,
            "overflow": null,
            "overflow_x": null,
            "overflow_y": null,
            "padding": null,
            "right": null,
            "top": null,
            "visibility": null,
            "width": null
          }
        },
        "02724f1a6d014533a89c06513d6a6eb0": {
          "model_module": "@jupyter-widgets/base",
          "model_name": "LayoutModel",
          "model_module_version": "1.2.0",
          "state": {
            "_model_module": "@jupyter-widgets/base",
            "_model_module_version": "1.2.0",
            "_model_name": "LayoutModel",
            "_view_count": null,
            "_view_module": "@jupyter-widgets/base",
            "_view_module_version": "1.2.0",
            "_view_name": "LayoutView",
            "align_content": null,
            "align_items": null,
            "align_self": null,
            "border": null,
            "bottom": null,
            "display": null,
            "flex": null,
            "flex_flow": null,
            "grid_area": null,
            "grid_auto_columns": null,
            "grid_auto_flow": null,
            "grid_auto_rows": null,
            "grid_column": null,
            "grid_gap": null,
            "grid_row": null,
            "grid_template_areas": null,
            "grid_template_columns": null,
            "grid_template_rows": null,
            "height": null,
            "justify_content": null,
            "justify_items": null,
            "left": null,
            "margin": null,
            "max_height": null,
            "max_width": null,
            "min_height": null,
            "min_width": null,
            "object_fit": null,
            "object_position": null,
            "order": null,
            "overflow": null,
            "overflow_x": null,
            "overflow_y": null,
            "padding": null,
            "right": null,
            "top": null,
            "visibility": null,
            "width": null
          }
        },
        "cd889fcdb20e4ee8af6337a5285dccd2": {
          "model_module": "@jupyter-widgets/controls",
          "model_name": "DescriptionStyleModel",
          "model_module_version": "1.5.0",
          "state": {
            "_model_module": "@jupyter-widgets/controls",
            "_model_module_version": "1.5.0",
            "_model_name": "DescriptionStyleModel",
            "_view_count": null,
            "_view_module": "@jupyter-widgets/base",
            "_view_module_version": "1.2.0",
            "_view_name": "StyleView",
            "description_width": ""
          }
        },
        "0a6a21e628f5470e97c0daf961ea936e": {
          "model_module": "@jupyter-widgets/base",
          "model_name": "LayoutModel",
          "model_module_version": "1.2.0",
          "state": {
            "_model_module": "@jupyter-widgets/base",
            "_model_module_version": "1.2.0",
            "_model_name": "LayoutModel",
            "_view_count": null,
            "_view_module": "@jupyter-widgets/base",
            "_view_module_version": "1.2.0",
            "_view_name": "LayoutView",
            "align_content": null,
            "align_items": null,
            "align_self": null,
            "border": null,
            "bottom": null,
            "display": null,
            "flex": null,
            "flex_flow": null,
            "grid_area": null,
            "grid_auto_columns": null,
            "grid_auto_flow": null,
            "grid_auto_rows": null,
            "grid_column": null,
            "grid_gap": null,
            "grid_row": null,
            "grid_template_areas": null,
            "grid_template_columns": null,
            "grid_template_rows": null,
            "height": null,
            "justify_content": null,
            "justify_items": null,
            "left": null,
            "margin": null,
            "max_height": null,
            "max_width": null,
            "min_height": null,
            "min_width": null,
            "object_fit": null,
            "object_position": null,
            "order": null,
            "overflow": null,
            "overflow_x": null,
            "overflow_y": null,
            "padding": null,
            "right": null,
            "top": null,
            "visibility": null,
            "width": null
          }
        },
        "aa2033b7e4de4a3d9c6fd10426f029bc": {
          "model_module": "@jupyter-widgets/controls",
          "model_name": "ProgressStyleModel",
          "model_module_version": "1.5.0",
          "state": {
            "_model_module": "@jupyter-widgets/controls",
            "_model_module_version": "1.5.0",
            "_model_name": "ProgressStyleModel",
            "_view_count": null,
            "_view_module": "@jupyter-widgets/base",
            "_view_module_version": "1.2.0",
            "_view_name": "StyleView",
            "bar_color": null,
            "description_width": ""
          }
        },
        "3012937e257a47009ab3165ed2ddaadc": {
          "model_module": "@jupyter-widgets/base",
          "model_name": "LayoutModel",
          "model_module_version": "1.2.0",
          "state": {
            "_model_module": "@jupyter-widgets/base",
            "_model_module_version": "1.2.0",
            "_model_name": "LayoutModel",
            "_view_count": null,
            "_view_module": "@jupyter-widgets/base",
            "_view_module_version": "1.2.0",
            "_view_name": "LayoutView",
            "align_content": null,
            "align_items": null,
            "align_self": null,
            "border": null,
            "bottom": null,
            "display": null,
            "flex": null,
            "flex_flow": null,
            "grid_area": null,
            "grid_auto_columns": null,
            "grid_auto_flow": null,
            "grid_auto_rows": null,
            "grid_column": null,
            "grid_gap": null,
            "grid_row": null,
            "grid_template_areas": null,
            "grid_template_columns": null,
            "grid_template_rows": null,
            "height": null,
            "justify_content": null,
            "justify_items": null,
            "left": null,
            "margin": null,
            "max_height": null,
            "max_width": null,
            "min_height": null,
            "min_width": null,
            "object_fit": null,
            "object_position": null,
            "order": null,
            "overflow": null,
            "overflow_x": null,
            "overflow_y": null,
            "padding": null,
            "right": null,
            "top": null,
            "visibility": null,
            "width": null
          }
        },
        "6dfe1a5ba85c4a6faa9e6f8c2b6b0b5f": {
          "model_module": "@jupyter-widgets/controls",
          "model_name": "DescriptionStyleModel",
          "model_module_version": "1.5.0",
          "state": {
            "_model_module": "@jupyter-widgets/controls",
            "_model_module_version": "1.5.0",
            "_model_name": "DescriptionStyleModel",
            "_view_count": null,
            "_view_module": "@jupyter-widgets/base",
            "_view_module_version": "1.2.0",
            "_view_name": "StyleView",
            "description_width": ""
          }
        }
      }
    }
  },
  "nbformat": 4,
  "nbformat_minor": 5
}